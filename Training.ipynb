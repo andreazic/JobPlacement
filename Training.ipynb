{
  "nbformat": 4,
  "nbformat_minor": 0,
  "metadata": {
    "colab": {
      "name": "Training.ipynb",
      "provenance": [],
      "collapsed_sections": []
    },
    "kernelspec": {
      "name": "python3",
      "display_name": "Python 3"
    },
    "language_info": {
      "name": "python"
    }
  },
  "cells": [
    {
      "cell_type": "code",
      "metadata": {
        "id": "mdcEJknt8d6v",
        "colab": {
          "base_uri": "https://localhost:8080/"
        },
        "outputId": "4bdee55f-ee2f-4557-977a-e8d47d8037c0"
      },
      "source": [
        "!pip install -r requirements.txt\n"
      ],
      "execution_count": 1,
      "outputs": [
        {
          "output_type": "stream",
          "name": "stdout",
          "text": [
            "Requirement already satisfied: matplotlib==3.4.2 in /usr/local/lib/python3.7/dist-packages (from -r requirements.txt (line 1)) (3.4.2)\n",
            "Requirement already satisfied: numpy==1.19.5 in /usr/local/lib/python3.7/dist-packages (from -r requirements.txt (line 2)) (1.19.5)\n",
            "Requirement already satisfied: pandas==1.3.0 in /usr/local/lib/python3.7/dist-packages (from -r requirements.txt (line 3)) (1.3.0)\n",
            "Requirement already satisfied: scikit-learn==0.24.2 in /usr/local/lib/python3.7/dist-packages (from -r requirements.txt (line 4)) (0.24.2)\n",
            "Requirement already satisfied: seaborn==0.11.1 in /usr/local/lib/python3.7/dist-packages (from -r requirements.txt (line 5)) (0.11.1)\n",
            "Requirement already satisfied: sklearn==0.0 in /usr/local/lib/python3.7/dist-packages (from -r requirements.txt (line 6)) (0.0)\n",
            "Requirement already satisfied: sklearn-pandas==1.8.0 in /usr/local/lib/python3.7/dist-packages (from -r requirements.txt (line 7)) (1.8.0)\n",
            "Requirement already satisfied: kiwisolver>=1.0.1 in /usr/local/lib/python3.7/dist-packages (from matplotlib==3.4.2->-r requirements.txt (line 1)) (1.3.2)\n",
            "Requirement already satisfied: pillow>=6.2.0 in /usr/local/lib/python3.7/dist-packages (from matplotlib==3.4.2->-r requirements.txt (line 1)) (7.1.2)\n",
            "Requirement already satisfied: pyparsing>=2.2.1 in /usr/local/lib/python3.7/dist-packages (from matplotlib==3.4.2->-r requirements.txt (line 1)) (2.4.7)\n",
            "Requirement already satisfied: cycler>=0.10 in /usr/local/lib/python3.7/dist-packages (from matplotlib==3.4.2->-r requirements.txt (line 1)) (0.10.0)\n",
            "Requirement already satisfied: python-dateutil>=2.7 in /usr/local/lib/python3.7/dist-packages (from matplotlib==3.4.2->-r requirements.txt (line 1)) (2.8.2)\n",
            "Requirement already satisfied: pytz>=2017.3 in /usr/local/lib/python3.7/dist-packages (from pandas==1.3.0->-r requirements.txt (line 3)) (2018.9)\n",
            "Requirement already satisfied: threadpoolctl>=2.0.0 in /usr/local/lib/python3.7/dist-packages (from scikit-learn==0.24.2->-r requirements.txt (line 4)) (2.2.0)\n",
            "Requirement already satisfied: scipy>=0.19.1 in /usr/local/lib/python3.7/dist-packages (from scikit-learn==0.24.2->-r requirements.txt (line 4)) (1.4.1)\n",
            "Requirement already satisfied: joblib>=0.11 in /usr/local/lib/python3.7/dist-packages (from scikit-learn==0.24.2->-r requirements.txt (line 4)) (1.0.1)\n",
            "Requirement already satisfied: six in /usr/local/lib/python3.7/dist-packages (from cycler>=0.10->matplotlib==3.4.2->-r requirements.txt (line 1)) (1.15.0)\n"
          ]
        }
      ]
    },
    {
      "cell_type": "code",
      "metadata": {
        "id": "9heeGBMLhI7t"
      },
      "source": [
        "#Imports\n",
        "import pandas as pd\n",
        "import numpy as np\n",
        "import seaborn as sns\n",
        "import matplotlib.pyplot as plt\n",
        "\n",
        "from sklearn import preprocessing\n",
        "from sklearn.metrics import accuracy_score\n",
        "from sklearn import metrics\n",
        "from sklearn.metrics import accuracy_score\n",
        "from sklearn.ensemble import RandomForestClassifier"
      ],
      "execution_count": 2,
      "outputs": []
    },
    {
      "cell_type": "code",
      "metadata": {
        "id": "zXF3iOLAiTTu"
      },
      "source": [
        "#Dataset import\n",
        "train = pd.read_csv('train.csv')\n",
        "test = pd.read_csv('test.csv')"
      ],
      "execution_count": 3,
      "outputs": []
    },
    {
      "cell_type": "code",
      "metadata": {
        "colab": {
          "base_uri": "https://localhost:8080/",
          "height": 419
        },
        "id": "fXF8RJb5ij4j",
        "outputId": "4300a9b7-c71b-4675-92e7-83faad3ef847"
      },
      "source": [
        "#Show train dataset\n",
        "train"
      ],
      "execution_count": 4,
      "outputs": [
        {
          "output_type": "execute_result",
          "data": {
            "text/html": [
              "<div>\n",
              "<style scoped>\n",
              "    .dataframe tbody tr th:only-of-type {\n",
              "        vertical-align: middle;\n",
              "    }\n",
              "\n",
              "    .dataframe tbody tr th {\n",
              "        vertical-align: top;\n",
              "    }\n",
              "\n",
              "    .dataframe thead th {\n",
              "        text-align: right;\n",
              "    }\n",
              "</style>\n",
              "<table border=\"1\" class=\"dataframe\">\n",
              "  <thead>\n",
              "    <tr style=\"text-align: right;\">\n",
              "      <th></th>\n",
              "      <th>status</th>\n",
              "      <th>gender</th>\n",
              "      <th>ssc_p</th>\n",
              "      <th>ssc_b</th>\n",
              "      <th>hsc_p</th>\n",
              "      <th>hsc_b</th>\n",
              "      <th>hsc_s</th>\n",
              "      <th>degree_p</th>\n",
              "      <th>degree_t</th>\n",
              "      <th>workex</th>\n",
              "      <th>etest_p</th>\n",
              "      <th>specialisation</th>\n",
              "      <th>mba_p</th>\n",
              "      <th>salary</th>\n",
              "    </tr>\n",
              "  </thead>\n",
              "  <tbody>\n",
              "    <tr>\n",
              "      <th>0</th>\n",
              "      <td>Placed</td>\n",
              "      <td>M</td>\n",
              "      <td>82.00</td>\n",
              "      <td>Central</td>\n",
              "      <td>64.00</td>\n",
              "      <td>Central</td>\n",
              "      <td>Science</td>\n",
              "      <td>66.00</td>\n",
              "      <td>Sci&amp;Tech</td>\n",
              "      <td>Yes</td>\n",
              "      <td>67.00</td>\n",
              "      <td>Mkt&amp;Fin</td>\n",
              "      <td>62.14</td>\n",
              "      <td>252000.0</td>\n",
              "    </tr>\n",
              "    <tr>\n",
              "      <th>1</th>\n",
              "      <td>Not Placed</td>\n",
              "      <td>F</td>\n",
              "      <td>70.50</td>\n",
              "      <td>Central</td>\n",
              "      <td>62.50</td>\n",
              "      <td>Others</td>\n",
              "      <td>Commerce</td>\n",
              "      <td>61.00</td>\n",
              "      <td>Comm&amp;Mgmt</td>\n",
              "      <td>No</td>\n",
              "      <td>93.91</td>\n",
              "      <td>Mkt&amp;Fin</td>\n",
              "      <td>69.03</td>\n",
              "      <td>NaN</td>\n",
              "    </tr>\n",
              "    <tr>\n",
              "      <th>2</th>\n",
              "      <td>Not Placed</td>\n",
              "      <td>M</td>\n",
              "      <td>52.00</td>\n",
              "      <td>Others</td>\n",
              "      <td>50.00</td>\n",
              "      <td>Others</td>\n",
              "      <td>Arts</td>\n",
              "      <td>61.00</td>\n",
              "      <td>Comm&amp;Mgmt</td>\n",
              "      <td>No</td>\n",
              "      <td>60.00</td>\n",
              "      <td>Mkt&amp;Fin</td>\n",
              "      <td>58.52</td>\n",
              "      <td>NaN</td>\n",
              "    </tr>\n",
              "    <tr>\n",
              "      <th>3</th>\n",
              "      <td>Placed</td>\n",
              "      <td>F</td>\n",
              "      <td>74.90</td>\n",
              "      <td>Others</td>\n",
              "      <td>57.00</td>\n",
              "      <td>Others</td>\n",
              "      <td>Science</td>\n",
              "      <td>62.00</td>\n",
              "      <td>Others</td>\n",
              "      <td>Yes</td>\n",
              "      <td>80.00</td>\n",
              "      <td>Mkt&amp;Fin</td>\n",
              "      <td>60.78</td>\n",
              "      <td>360000.0</td>\n",
              "    </tr>\n",
              "    <tr>\n",
              "      <th>4</th>\n",
              "      <td>Placed</td>\n",
              "      <td>M</td>\n",
              "      <td>77.67</td>\n",
              "      <td>Others</td>\n",
              "      <td>64.89</td>\n",
              "      <td>Others</td>\n",
              "      <td>Commerce</td>\n",
              "      <td>70.67</td>\n",
              "      <td>Comm&amp;Mgmt</td>\n",
              "      <td>No</td>\n",
              "      <td>89.00</td>\n",
              "      <td>Mkt&amp;Fin</td>\n",
              "      <td>60.39</td>\n",
              "      <td>300000.0</td>\n",
              "    </tr>\n",
              "    <tr>\n",
              "      <th>...</th>\n",
              "      <td>...</td>\n",
              "      <td>...</td>\n",
              "      <td>...</td>\n",
              "      <td>...</td>\n",
              "      <td>...</td>\n",
              "      <td>...</td>\n",
              "      <td>...</td>\n",
              "      <td>...</td>\n",
              "      <td>...</td>\n",
              "      <td>...</td>\n",
              "      <td>...</td>\n",
              "      <td>...</td>\n",
              "      <td>...</td>\n",
              "      <td>...</td>\n",
              "    </tr>\n",
              "    <tr>\n",
              "      <th>132</th>\n",
              "      <td>Placed</td>\n",
              "      <td>F</td>\n",
              "      <td>85.00</td>\n",
              "      <td>Others</td>\n",
              "      <td>90.00</td>\n",
              "      <td>Others</td>\n",
              "      <td>Commerce</td>\n",
              "      <td>82.00</td>\n",
              "      <td>Comm&amp;Mgmt</td>\n",
              "      <td>No</td>\n",
              "      <td>92.00</td>\n",
              "      <td>Mkt&amp;Fin</td>\n",
              "      <td>68.03</td>\n",
              "      <td>300000.0</td>\n",
              "    </tr>\n",
              "    <tr>\n",
              "      <th>133</th>\n",
              "      <td>Placed</td>\n",
              "      <td>M</td>\n",
              "      <td>76.50</td>\n",
              "      <td>Others</td>\n",
              "      <td>97.70</td>\n",
              "      <td>Others</td>\n",
              "      <td>Science</td>\n",
              "      <td>78.86</td>\n",
              "      <td>Sci&amp;Tech</td>\n",
              "      <td>No</td>\n",
              "      <td>97.40</td>\n",
              "      <td>Mkt&amp;Fin</td>\n",
              "      <td>74.01</td>\n",
              "      <td>360000.0</td>\n",
              "    </tr>\n",
              "    <tr>\n",
              "      <th>134</th>\n",
              "      <td>Not Placed</td>\n",
              "      <td>F</td>\n",
              "      <td>63.30</td>\n",
              "      <td>Central</td>\n",
              "      <td>78.33</td>\n",
              "      <td>Others</td>\n",
              "      <td>Commerce</td>\n",
              "      <td>74.00</td>\n",
              "      <td>Comm&amp;Mgmt</td>\n",
              "      <td>No</td>\n",
              "      <td>80.00</td>\n",
              "      <td>Mkt&amp;Fin</td>\n",
              "      <td>74.56</td>\n",
              "      <td>NaN</td>\n",
              "    </tr>\n",
              "    <tr>\n",
              "      <th>135</th>\n",
              "      <td>Placed</td>\n",
              "      <td>F</td>\n",
              "      <td>73.96</td>\n",
              "      <td>Others</td>\n",
              "      <td>79.00</td>\n",
              "      <td>Others</td>\n",
              "      <td>Commerce</td>\n",
              "      <td>67.00</td>\n",
              "      <td>Comm&amp;Mgmt</td>\n",
              "      <td>No</td>\n",
              "      <td>72.15</td>\n",
              "      <td>Mkt&amp;Fin</td>\n",
              "      <td>63.08</td>\n",
              "      <td>280000.0</td>\n",
              "    </tr>\n",
              "    <tr>\n",
              "      <th>136</th>\n",
              "      <td>Placed</td>\n",
              "      <td>F</td>\n",
              "      <td>69.00</td>\n",
              "      <td>Central</td>\n",
              "      <td>78.00</td>\n",
              "      <td>Central</td>\n",
              "      <td>Commerce</td>\n",
              "      <td>72.00</td>\n",
              "      <td>Comm&amp;Mgmt</td>\n",
              "      <td>No</td>\n",
              "      <td>71.00</td>\n",
              "      <td>Mkt&amp;HR</td>\n",
              "      <td>62.74</td>\n",
              "      <td>300000.0</td>\n",
              "    </tr>\n",
              "  </tbody>\n",
              "</table>\n",
              "<p>137 rows × 14 columns</p>\n",
              "</div>"
            ],
            "text/plain": [
              "         status gender  ssc_p    ssc_b  ...  etest_p specialisation  mba_p    salary\n",
              "0        Placed      M  82.00  Central  ...    67.00        Mkt&Fin  62.14  252000.0\n",
              "1    Not Placed      F  70.50  Central  ...    93.91        Mkt&Fin  69.03       NaN\n",
              "2    Not Placed      M  52.00   Others  ...    60.00        Mkt&Fin  58.52       NaN\n",
              "3        Placed      F  74.90   Others  ...    80.00        Mkt&Fin  60.78  360000.0\n",
              "4        Placed      M  77.67   Others  ...    89.00        Mkt&Fin  60.39  300000.0\n",
              "..          ...    ...    ...      ...  ...      ...            ...    ...       ...\n",
              "132      Placed      F  85.00   Others  ...    92.00        Mkt&Fin  68.03  300000.0\n",
              "133      Placed      M  76.50   Others  ...    97.40        Mkt&Fin  74.01  360000.0\n",
              "134  Not Placed      F  63.30  Central  ...    80.00        Mkt&Fin  74.56       NaN\n",
              "135      Placed      F  73.96   Others  ...    72.15        Mkt&Fin  63.08  280000.0\n",
              "136      Placed      F  69.00  Central  ...    71.00         Mkt&HR  62.74  300000.0\n",
              "\n",
              "[137 rows x 14 columns]"
            ]
          },
          "metadata": {},
          "execution_count": 4
        }
      ]
    },
    {
      "cell_type": "code",
      "metadata": {
        "colab": {
          "base_uri": "https://localhost:8080/",
          "height": 1000
        },
        "id": "F4pppyy1i0OO",
        "outputId": "5741c1c8-9bba-44d4-b736-6bc62b6fbfda"
      },
      "source": [
        "#Show test dataset\n",
        "test"
      ],
      "execution_count": 5,
      "outputs": [
        {
          "output_type": "execute_result",
          "data": {
            "text/html": [
              "<div>\n",
              "<style scoped>\n",
              "    .dataframe tbody tr th:only-of-type {\n",
              "        vertical-align: middle;\n",
              "    }\n",
              "\n",
              "    .dataframe tbody tr th {\n",
              "        vertical-align: top;\n",
              "    }\n",
              "\n",
              "    .dataframe thead th {\n",
              "        text-align: right;\n",
              "    }\n",
              "</style>\n",
              "<table border=\"1\" class=\"dataframe\">\n",
              "  <thead>\n",
              "    <tr style=\"text-align: right;\">\n",
              "      <th></th>\n",
              "      <th>status</th>\n",
              "      <th>gender</th>\n",
              "      <th>ssc_p</th>\n",
              "      <th>ssc_b</th>\n",
              "      <th>hsc_p</th>\n",
              "      <th>hsc_b</th>\n",
              "      <th>hsc_s</th>\n",
              "      <th>degree_p</th>\n",
              "      <th>degree_t</th>\n",
              "      <th>workex</th>\n",
              "      <th>etest_p</th>\n",
              "      <th>specialisation</th>\n",
              "      <th>mba_p</th>\n",
              "      <th>salary</th>\n",
              "    </tr>\n",
              "  </thead>\n",
              "  <tbody>\n",
              "    <tr>\n",
              "      <th>0</th>\n",
              "      <td>Placed</td>\n",
              "      <td>M</td>\n",
              "      <td>62.00</td>\n",
              "      <td>Central</td>\n",
              "      <td>72.00</td>\n",
              "      <td>Central</td>\n",
              "      <td>Commerce</td>\n",
              "      <td>65.00</td>\n",
              "      <td>Comm&amp;Mgmt</td>\n",
              "      <td>No</td>\n",
              "      <td>67.00</td>\n",
              "      <td>Mkt&amp;Fin</td>\n",
              "      <td>56.49</td>\n",
              "      <td>216000.0</td>\n",
              "    </tr>\n",
              "    <tr>\n",
              "      <th>1</th>\n",
              "      <td>Not Placed</td>\n",
              "      <td>M</td>\n",
              "      <td>52.00</td>\n",
              "      <td>Others</td>\n",
              "      <td>65.00</td>\n",
              "      <td>Others</td>\n",
              "      <td>Arts</td>\n",
              "      <td>57.00</td>\n",
              "      <td>Others</td>\n",
              "      <td>Yes</td>\n",
              "      <td>75.00</td>\n",
              "      <td>Mkt&amp;Fin</td>\n",
              "      <td>59.81</td>\n",
              "      <td>NaN</td>\n",
              "    </tr>\n",
              "    <tr>\n",
              "      <th>2</th>\n",
              "      <td>Placed</td>\n",
              "      <td>M</td>\n",
              "      <td>65.00</td>\n",
              "      <td>Central</td>\n",
              "      <td>71.50</td>\n",
              "      <td>Others</td>\n",
              "      <td>Commerce</td>\n",
              "      <td>62.80</td>\n",
              "      <td>Comm&amp;Mgmt</td>\n",
              "      <td>Yes</td>\n",
              "      <td>57.00</td>\n",
              "      <td>Mkt&amp;Fin</td>\n",
              "      <td>56.60</td>\n",
              "      <td>265000.0</td>\n",
              "    </tr>\n",
              "    <tr>\n",
              "      <th>3</th>\n",
              "      <td>Placed</td>\n",
              "      <td>F</td>\n",
              "      <td>61.00</td>\n",
              "      <td>Central</td>\n",
              "      <td>81.00</td>\n",
              "      <td>Central</td>\n",
              "      <td>Commerce</td>\n",
              "      <td>66.40</td>\n",
              "      <td>Comm&amp;Mgmt</td>\n",
              "      <td>No</td>\n",
              "      <td>50.89</td>\n",
              "      <td>Mkt&amp;HR</td>\n",
              "      <td>62.21</td>\n",
              "      <td>278000.0</td>\n",
              "    </tr>\n",
              "    <tr>\n",
              "      <th>4</th>\n",
              "      <td>Placed</td>\n",
              "      <td>F</td>\n",
              "      <td>77.44</td>\n",
              "      <td>Central</td>\n",
              "      <td>92.00</td>\n",
              "      <td>Others</td>\n",
              "      <td>Commerce</td>\n",
              "      <td>72.00</td>\n",
              "      <td>Comm&amp;Mgmt</td>\n",
              "      <td>Yes</td>\n",
              "      <td>94.00</td>\n",
              "      <td>Mkt&amp;Fin</td>\n",
              "      <td>67.13</td>\n",
              "      <td>250000.0</td>\n",
              "    </tr>\n",
              "    <tr>\n",
              "      <th>5</th>\n",
              "      <td>Placed</td>\n",
              "      <td>F</td>\n",
              "      <td>69.80</td>\n",
              "      <td>Others</td>\n",
              "      <td>60.80</td>\n",
              "      <td>Others</td>\n",
              "      <td>Science</td>\n",
              "      <td>72.23</td>\n",
              "      <td>Sci&amp;Tech</td>\n",
              "      <td>No</td>\n",
              "      <td>55.53</td>\n",
              "      <td>Mkt&amp;HR</td>\n",
              "      <td>68.81</td>\n",
              "      <td>360000.0</td>\n",
              "    </tr>\n",
              "    <tr>\n",
              "      <th>6</th>\n",
              "      <td>Placed</td>\n",
              "      <td>M</td>\n",
              "      <td>80.60</td>\n",
              "      <td>Others</td>\n",
              "      <td>82.00</td>\n",
              "      <td>Others</td>\n",
              "      <td>Commerce</td>\n",
              "      <td>77.60</td>\n",
              "      <td>Comm&amp;Mgmt</td>\n",
              "      <td>No</td>\n",
              "      <td>91.00</td>\n",
              "      <td>Mkt&amp;Fin</td>\n",
              "      <td>74.49</td>\n",
              "      <td>400000.0</td>\n",
              "    </tr>\n",
              "    <tr>\n",
              "      <th>7</th>\n",
              "      <td>Placed</td>\n",
              "      <td>M</td>\n",
              "      <td>63.00</td>\n",
              "      <td>Central</td>\n",
              "      <td>72.00</td>\n",
              "      <td>Central</td>\n",
              "      <td>Commerce</td>\n",
              "      <td>68.00</td>\n",
              "      <td>Comm&amp;Mgmt</td>\n",
              "      <td>No</td>\n",
              "      <td>78.00</td>\n",
              "      <td>Mkt&amp;HR</td>\n",
              "      <td>60.44</td>\n",
              "      <td>380000.0</td>\n",
              "    </tr>\n",
              "    <tr>\n",
              "      <th>8</th>\n",
              "      <td>Placed</td>\n",
              "      <td>F</td>\n",
              "      <td>66.50</td>\n",
              "      <td>Central</td>\n",
              "      <td>66.80</td>\n",
              "      <td>Central</td>\n",
              "      <td>Arts</td>\n",
              "      <td>69.30</td>\n",
              "      <td>Comm&amp;Mgmt</td>\n",
              "      <td>Yes</td>\n",
              "      <td>80.40</td>\n",
              "      <td>Mkt&amp;Fin</td>\n",
              "      <td>71.00</td>\n",
              "      <td>236000.0</td>\n",
              "    </tr>\n",
              "    <tr>\n",
              "      <th>9</th>\n",
              "      <td>Placed</td>\n",
              "      <td>F</td>\n",
              "      <td>72.00</td>\n",
              "      <td>Others</td>\n",
              "      <td>60.00</td>\n",
              "      <td>Others</td>\n",
              "      <td>Science</td>\n",
              "      <td>69.00</td>\n",
              "      <td>Comm&amp;Mgmt</td>\n",
              "      <td>No</td>\n",
              "      <td>55.50</td>\n",
              "      <td>Mkt&amp;HR</td>\n",
              "      <td>58.40</td>\n",
              "      <td>250000.0</td>\n",
              "    </tr>\n",
              "    <tr>\n",
              "      <th>10</th>\n",
              "      <td>Placed</td>\n",
              "      <td>M</td>\n",
              "      <td>58.00</td>\n",
              "      <td>Central</td>\n",
              "      <td>61.00</td>\n",
              "      <td>Central</td>\n",
              "      <td>Commerce</td>\n",
              "      <td>60.00</td>\n",
              "      <td>Comm&amp;Mgmt</td>\n",
              "      <td>Yes</td>\n",
              "      <td>62.00</td>\n",
              "      <td>Mkt&amp;HR</td>\n",
              "      <td>60.85</td>\n",
              "      <td>260000.0</td>\n",
              "    </tr>\n",
              "    <tr>\n",
              "      <th>11</th>\n",
              "      <td>Not Placed</td>\n",
              "      <td>M</td>\n",
              "      <td>62.00</td>\n",
              "      <td>Central</td>\n",
              "      <td>47.00</td>\n",
              "      <td>Central</td>\n",
              "      <td>Commerce</td>\n",
              "      <td>50.00</td>\n",
              "      <td>Comm&amp;Mgmt</td>\n",
              "      <td>No</td>\n",
              "      <td>76.00</td>\n",
              "      <td>Mkt&amp;HR</td>\n",
              "      <td>54.96</td>\n",
              "      <td>NaN</td>\n",
              "    </tr>\n",
              "    <tr>\n",
              "      <th>12</th>\n",
              "      <td>Placed</td>\n",
              "      <td>M</td>\n",
              "      <td>76.70</td>\n",
              "      <td>Central</td>\n",
              "      <td>89.70</td>\n",
              "      <td>Others</td>\n",
              "      <td>Commerce</td>\n",
              "      <td>66.00</td>\n",
              "      <td>Comm&amp;Mgmt</td>\n",
              "      <td>Yes</td>\n",
              "      <td>90.00</td>\n",
              "      <td>Mkt&amp;Fin</td>\n",
              "      <td>68.55</td>\n",
              "      <td>250000.0</td>\n",
              "    </tr>\n",
              "    <tr>\n",
              "      <th>13</th>\n",
              "      <td>Placed</td>\n",
              "      <td>F</td>\n",
              "      <td>77.00</td>\n",
              "      <td>Central</td>\n",
              "      <td>87.00</td>\n",
              "      <td>Central</td>\n",
              "      <td>Commerce</td>\n",
              "      <td>59.00</td>\n",
              "      <td>Comm&amp;Mgmt</td>\n",
              "      <td>No</td>\n",
              "      <td>68.00</td>\n",
              "      <td>Mkt&amp;Fin</td>\n",
              "      <td>68.63</td>\n",
              "      <td>218000.0</td>\n",
              "    </tr>\n",
              "    <tr>\n",
              "      <th>14</th>\n",
              "      <td>Placed</td>\n",
              "      <td>F</td>\n",
              "      <td>86.50</td>\n",
              "      <td>Others</td>\n",
              "      <td>64.20</td>\n",
              "      <td>Others</td>\n",
              "      <td>Science</td>\n",
              "      <td>67.40</td>\n",
              "      <td>Sci&amp;Tech</td>\n",
              "      <td>No</td>\n",
              "      <td>59.00</td>\n",
              "      <td>Mkt&amp;Fin</td>\n",
              "      <td>59.69</td>\n",
              "      <td>240000.0</td>\n",
              "    </tr>\n",
              "    <tr>\n",
              "      <th>15</th>\n",
              "      <td>Placed</td>\n",
              "      <td>M</td>\n",
              "      <td>79.33</td>\n",
              "      <td>Central</td>\n",
              "      <td>78.33</td>\n",
              "      <td>Others</td>\n",
              "      <td>Science</td>\n",
              "      <td>77.48</td>\n",
              "      <td>Sci&amp;Tech</td>\n",
              "      <td>Yes</td>\n",
              "      <td>86.50</td>\n",
              "      <td>Mkt&amp;Fin</td>\n",
              "      <td>66.28</td>\n",
              "      <td>200000.0</td>\n",
              "    </tr>\n",
              "    <tr>\n",
              "      <th>16</th>\n",
              "      <td>Placed</td>\n",
              "      <td>M</td>\n",
              "      <td>68.00</td>\n",
              "      <td>Others</td>\n",
              "      <td>56.00</td>\n",
              "      <td>Others</td>\n",
              "      <td>Science</td>\n",
              "      <td>68.00</td>\n",
              "      <td>Sci&amp;Tech</td>\n",
              "      <td>No</td>\n",
              "      <td>73.00</td>\n",
              "      <td>Mkt&amp;HR</td>\n",
              "      <td>68.07</td>\n",
              "      <td>350000.0</td>\n",
              "    </tr>\n",
              "    <tr>\n",
              "      <th>17</th>\n",
              "      <td>Placed</td>\n",
              "      <td>M</td>\n",
              "      <td>60.80</td>\n",
              "      <td>Central</td>\n",
              "      <td>68.40</td>\n",
              "      <td>Central</td>\n",
              "      <td>Commerce</td>\n",
              "      <td>64.60</td>\n",
              "      <td>Comm&amp;Mgmt</td>\n",
              "      <td>Yes</td>\n",
              "      <td>82.66</td>\n",
              "      <td>Mkt&amp;Fin</td>\n",
              "      <td>64.34</td>\n",
              "      <td>940000.0</td>\n",
              "    </tr>\n",
              "    <tr>\n",
              "      <th>18</th>\n",
              "      <td>Not Placed</td>\n",
              "      <td>F</td>\n",
              "      <td>67.00</td>\n",
              "      <td>Central</td>\n",
              "      <td>70.00</td>\n",
              "      <td>Central</td>\n",
              "      <td>Commerce</td>\n",
              "      <td>65.00</td>\n",
              "      <td>Others</td>\n",
              "      <td>No</td>\n",
              "      <td>88.00</td>\n",
              "      <td>Mkt&amp;HR</td>\n",
              "      <td>71.96</td>\n",
              "      <td>NaN</td>\n",
              "    </tr>\n",
              "    <tr>\n",
              "      <th>19</th>\n",
              "      <td>Placed</td>\n",
              "      <td>M</td>\n",
              "      <td>80.00</td>\n",
              "      <td>Others</td>\n",
              "      <td>70.00</td>\n",
              "      <td>Others</td>\n",
              "      <td>Science</td>\n",
              "      <td>72.00</td>\n",
              "      <td>Sci&amp;Tech</td>\n",
              "      <td>No</td>\n",
              "      <td>87.00</td>\n",
              "      <td>Mkt&amp;HR</td>\n",
              "      <td>71.04</td>\n",
              "      <td>450000.0</td>\n",
              "    </tr>\n",
              "    <tr>\n",
              "      <th>20</th>\n",
              "      <td>Not Placed</td>\n",
              "      <td>M</td>\n",
              "      <td>61.80</td>\n",
              "      <td>Others</td>\n",
              "      <td>47.00</td>\n",
              "      <td>Others</td>\n",
              "      <td>Commerce</td>\n",
              "      <td>54.38</td>\n",
              "      <td>Comm&amp;Mgmt</td>\n",
              "      <td>No</td>\n",
              "      <td>57.00</td>\n",
              "      <td>Mkt&amp;Fin</td>\n",
              "      <td>56.13</td>\n",
              "      <td>NaN</td>\n",
              "    </tr>\n",
              "    <tr>\n",
              "      <th>21</th>\n",
              "      <td>Placed</td>\n",
              "      <td>F</td>\n",
              "      <td>74.00</td>\n",
              "      <td>Central</td>\n",
              "      <td>60.00</td>\n",
              "      <td>Others</td>\n",
              "      <td>Science</td>\n",
              "      <td>69.00</td>\n",
              "      <td>Comm&amp;Mgmt</td>\n",
              "      <td>No</td>\n",
              "      <td>78.00</td>\n",
              "      <td>Mkt&amp;HR</td>\n",
              "      <td>65.56</td>\n",
              "      <td>216000.0</td>\n",
              "    </tr>\n",
              "    <tr>\n",
              "      <th>22</th>\n",
              "      <td>Not Placed</td>\n",
              "      <td>M</td>\n",
              "      <td>55.00</td>\n",
              "      <td>Others</td>\n",
              "      <td>49.80</td>\n",
              "      <td>Others</td>\n",
              "      <td>Science</td>\n",
              "      <td>67.25</td>\n",
              "      <td>Sci&amp;Tech</td>\n",
              "      <td>Yes</td>\n",
              "      <td>55.00</td>\n",
              "      <td>Mkt&amp;Fin</td>\n",
              "      <td>51.58</td>\n",
              "      <td>NaN</td>\n",
              "    </tr>\n",
              "    <tr>\n",
              "      <th>23</th>\n",
              "      <td>Placed</td>\n",
              "      <td>F</td>\n",
              "      <td>73.00</td>\n",
              "      <td>Others</td>\n",
              "      <td>58.00</td>\n",
              "      <td>Others</td>\n",
              "      <td>Science</td>\n",
              "      <td>66.00</td>\n",
              "      <td>Comm&amp;Mgmt</td>\n",
              "      <td>No</td>\n",
              "      <td>53.70</td>\n",
              "      <td>Mkt&amp;HR</td>\n",
              "      <td>56.86</td>\n",
              "      <td>240000.0</td>\n",
              "    </tr>\n",
              "    <tr>\n",
              "      <th>24</th>\n",
              "      <td>Placed</td>\n",
              "      <td>M</td>\n",
              "      <td>66.00</td>\n",
              "      <td>Central</td>\n",
              "      <td>76.00</td>\n",
              "      <td>Central</td>\n",
              "      <td>Commerce</td>\n",
              "      <td>72.00</td>\n",
              "      <td>Comm&amp;Mgmt</td>\n",
              "      <td>Yes</td>\n",
              "      <td>84.00</td>\n",
              "      <td>Mkt&amp;HR</td>\n",
              "      <td>58.95</td>\n",
              "      <td>275000.0</td>\n",
              "    </tr>\n",
              "    <tr>\n",
              "      <th>25</th>\n",
              "      <td>Not Placed</td>\n",
              "      <td>F</td>\n",
              "      <td>46.00</td>\n",
              "      <td>Others</td>\n",
              "      <td>49.20</td>\n",
              "      <td>Others</td>\n",
              "      <td>Commerce</td>\n",
              "      <td>79.00</td>\n",
              "      <td>Comm&amp;Mgmt</td>\n",
              "      <td>No</td>\n",
              "      <td>74.28</td>\n",
              "      <td>Mkt&amp;Fin</td>\n",
              "      <td>53.29</td>\n",
              "      <td>NaN</td>\n",
              "    </tr>\n",
              "    <tr>\n",
              "      <th>26</th>\n",
              "      <td>Placed</td>\n",
              "      <td>M</td>\n",
              "      <td>65.00</td>\n",
              "      <td>Central</td>\n",
              "      <td>68.00</td>\n",
              "      <td>Central</td>\n",
              "      <td>Arts</td>\n",
              "      <td>64.00</td>\n",
              "      <td>Comm&amp;Mgmt</td>\n",
              "      <td>No</td>\n",
              "      <td>75.00</td>\n",
              "      <td>Mkt&amp;Fin</td>\n",
              "      <td>57.80</td>\n",
              "      <td>250000.0</td>\n",
              "    </tr>\n",
              "    <tr>\n",
              "      <th>27</th>\n",
              "      <td>Placed</td>\n",
              "      <td>F</td>\n",
              "      <td>66.00</td>\n",
              "      <td>Central</td>\n",
              "      <td>62.00</td>\n",
              "      <td>Central</td>\n",
              "      <td>Commerce</td>\n",
              "      <td>73.00</td>\n",
              "      <td>Comm&amp;Mgmt</td>\n",
              "      <td>No</td>\n",
              "      <td>58.00</td>\n",
              "      <td>Mkt&amp;HR</td>\n",
              "      <td>64.36</td>\n",
              "      <td>210000.0</td>\n",
              "    </tr>\n",
              "    <tr>\n",
              "      <th>28</th>\n",
              "      <td>Placed</td>\n",
              "      <td>M</td>\n",
              "      <td>74.00</td>\n",
              "      <td>Others</td>\n",
              "      <td>59.00</td>\n",
              "      <td>Others</td>\n",
              "      <td>Commerce</td>\n",
              "      <td>73.00</td>\n",
              "      <td>Comm&amp;Mgmt</td>\n",
              "      <td>Yes</td>\n",
              "      <td>60.00</td>\n",
              "      <td>Mkt&amp;HR</td>\n",
              "      <td>56.70</td>\n",
              "      <td>240000.0</td>\n",
              "    </tr>\n",
              "    <tr>\n",
              "      <th>29</th>\n",
              "      <td>Placed</td>\n",
              "      <td>M</td>\n",
              "      <td>83.33</td>\n",
              "      <td>Central</td>\n",
              "      <td>78.00</td>\n",
              "      <td>Others</td>\n",
              "      <td>Commerce</td>\n",
              "      <td>61.00</td>\n",
              "      <td>Comm&amp;Mgmt</td>\n",
              "      <td>Yes</td>\n",
              "      <td>88.56</td>\n",
              "      <td>Mkt&amp;Fin</td>\n",
              "      <td>71.55</td>\n",
              "      <td>300000.0</td>\n",
              "    </tr>\n",
              "    <tr>\n",
              "      <th>30</th>\n",
              "      <td>Not Placed</td>\n",
              "      <td>M</td>\n",
              "      <td>44.00</td>\n",
              "      <td>Central</td>\n",
              "      <td>58.00</td>\n",
              "      <td>Central</td>\n",
              "      <td>Arts</td>\n",
              "      <td>55.00</td>\n",
              "      <td>Comm&amp;Mgmt</td>\n",
              "      <td>Yes</td>\n",
              "      <td>64.25</td>\n",
              "      <td>Mkt&amp;HR</td>\n",
              "      <td>58.54</td>\n",
              "      <td>NaN</td>\n",
              "    </tr>\n",
              "    <tr>\n",
              "      <th>31</th>\n",
              "      <td>Placed</td>\n",
              "      <td>M</td>\n",
              "      <td>63.00</td>\n",
              "      <td>Others</td>\n",
              "      <td>71.40</td>\n",
              "      <td>Others</td>\n",
              "      <td>Commerce</td>\n",
              "      <td>61.40</td>\n",
              "      <td>Comm&amp;Mgmt</td>\n",
              "      <td>No</td>\n",
              "      <td>68.00</td>\n",
              "      <td>Mkt&amp;Fin</td>\n",
              "      <td>66.88</td>\n",
              "      <td>240000.0</td>\n",
              "    </tr>\n",
              "    <tr>\n",
              "      <th>32</th>\n",
              "      <td>Not Placed</td>\n",
              "      <td>M</td>\n",
              "      <td>56.00</td>\n",
              "      <td>Central</td>\n",
              "      <td>52.00</td>\n",
              "      <td>Central</td>\n",
              "      <td>Science</td>\n",
              "      <td>52.00</td>\n",
              "      <td>Sci&amp;Tech</td>\n",
              "      <td>No</td>\n",
              "      <td>66.00</td>\n",
              "      <td>Mkt&amp;HR</td>\n",
              "      <td>59.43</td>\n",
              "      <td>NaN</td>\n",
              "    </tr>\n",
              "    <tr>\n",
              "      <th>33</th>\n",
              "      <td>Placed</td>\n",
              "      <td>F</td>\n",
              "      <td>69.00</td>\n",
              "      <td>Others</td>\n",
              "      <td>62.00</td>\n",
              "      <td>Others</td>\n",
              "      <td>Commerce</td>\n",
              "      <td>69.00</td>\n",
              "      <td>Comm&amp;Mgmt</td>\n",
              "      <td>Yes</td>\n",
              "      <td>67.00</td>\n",
              "      <td>Mkt&amp;HR</td>\n",
              "      <td>62.35</td>\n",
              "      <td>240000.0</td>\n",
              "    </tr>\n",
              "    <tr>\n",
              "      <th>34</th>\n",
              "      <td>Placed</td>\n",
              "      <td>M</td>\n",
              "      <td>60.00</td>\n",
              "      <td>Others</td>\n",
              "      <td>67.00</td>\n",
              "      <td>Others</td>\n",
              "      <td>Arts</td>\n",
              "      <td>70.00</td>\n",
              "      <td>Comm&amp;Mgmt</td>\n",
              "      <td>Yes</td>\n",
              "      <td>50.48</td>\n",
              "      <td>Mkt&amp;Fin</td>\n",
              "      <td>77.89</td>\n",
              "      <td>236000.0</td>\n",
              "    </tr>\n",
              "  </tbody>\n",
              "</table>\n",
              "</div>"
            ],
            "text/plain": [
              "        status gender  ssc_p    ssc_b  ...  etest_p specialisation  mba_p    salary\n",
              "0       Placed      M  62.00  Central  ...    67.00        Mkt&Fin  56.49  216000.0\n",
              "1   Not Placed      M  52.00   Others  ...    75.00        Mkt&Fin  59.81       NaN\n",
              "2       Placed      M  65.00  Central  ...    57.00        Mkt&Fin  56.60  265000.0\n",
              "3       Placed      F  61.00  Central  ...    50.89         Mkt&HR  62.21  278000.0\n",
              "4       Placed      F  77.44  Central  ...    94.00        Mkt&Fin  67.13  250000.0\n",
              "5       Placed      F  69.80   Others  ...    55.53         Mkt&HR  68.81  360000.0\n",
              "6       Placed      M  80.60   Others  ...    91.00        Mkt&Fin  74.49  400000.0\n",
              "7       Placed      M  63.00  Central  ...    78.00         Mkt&HR  60.44  380000.0\n",
              "8       Placed      F  66.50  Central  ...    80.40        Mkt&Fin  71.00  236000.0\n",
              "9       Placed      F  72.00   Others  ...    55.50         Mkt&HR  58.40  250000.0\n",
              "10      Placed      M  58.00  Central  ...    62.00         Mkt&HR  60.85  260000.0\n",
              "11  Not Placed      M  62.00  Central  ...    76.00         Mkt&HR  54.96       NaN\n",
              "12      Placed      M  76.70  Central  ...    90.00        Mkt&Fin  68.55  250000.0\n",
              "13      Placed      F  77.00  Central  ...    68.00        Mkt&Fin  68.63  218000.0\n",
              "14      Placed      F  86.50   Others  ...    59.00        Mkt&Fin  59.69  240000.0\n",
              "15      Placed      M  79.33  Central  ...    86.50        Mkt&Fin  66.28  200000.0\n",
              "16      Placed      M  68.00   Others  ...    73.00         Mkt&HR  68.07  350000.0\n",
              "17      Placed      M  60.80  Central  ...    82.66        Mkt&Fin  64.34  940000.0\n",
              "18  Not Placed      F  67.00  Central  ...    88.00         Mkt&HR  71.96       NaN\n",
              "19      Placed      M  80.00   Others  ...    87.00         Mkt&HR  71.04  450000.0\n",
              "20  Not Placed      M  61.80   Others  ...    57.00        Mkt&Fin  56.13       NaN\n",
              "21      Placed      F  74.00  Central  ...    78.00         Mkt&HR  65.56  216000.0\n",
              "22  Not Placed      M  55.00   Others  ...    55.00        Mkt&Fin  51.58       NaN\n",
              "23      Placed      F  73.00   Others  ...    53.70         Mkt&HR  56.86  240000.0\n",
              "24      Placed      M  66.00  Central  ...    84.00         Mkt&HR  58.95  275000.0\n",
              "25  Not Placed      F  46.00   Others  ...    74.28        Mkt&Fin  53.29       NaN\n",
              "26      Placed      M  65.00  Central  ...    75.00        Mkt&Fin  57.80  250000.0\n",
              "27      Placed      F  66.00  Central  ...    58.00         Mkt&HR  64.36  210000.0\n",
              "28      Placed      M  74.00   Others  ...    60.00         Mkt&HR  56.70  240000.0\n",
              "29      Placed      M  83.33  Central  ...    88.56        Mkt&Fin  71.55  300000.0\n",
              "30  Not Placed      M  44.00  Central  ...    64.25         Mkt&HR  58.54       NaN\n",
              "31      Placed      M  63.00   Others  ...    68.00        Mkt&Fin  66.88  240000.0\n",
              "32  Not Placed      M  56.00  Central  ...    66.00         Mkt&HR  59.43       NaN\n",
              "33      Placed      F  69.00   Others  ...    67.00         Mkt&HR  62.35  240000.0\n",
              "34      Placed      M  60.00   Others  ...    50.48        Mkt&Fin  77.89  236000.0\n",
              "\n",
              "[35 rows x 14 columns]"
            ]
          },
          "metadata": {},
          "execution_count": 5
        }
      ]
    },
    {
      "cell_type": "markdown",
      "metadata": {
        "id": "MZ7PApuq4QUa"
      },
      "source": [
        "Verifico graficamente la distribuzione degli studenti sulla base della feature 'status'"
      ]
    },
    {
      "cell_type": "code",
      "metadata": {
        "colab": {
          "base_uri": "https://localhost:8080/",
          "height": 370
        },
        "id": "Yd3AXIRt4Mfz",
        "outputId": "d0f1c8ce-c552-4ca0-dfe7-b0edcb362a7e"
      },
      "source": [
        "def plot_target_distribution(target):\n",
        "    status_value_counts = target.value_counts()\n",
        "    print(status_value_counts)\n",
        "    plot = status_value_counts.plot.pie(\n",
        "        figsize = (5, 5),\n",
        "        explode = (0, 0.1),\n",
        "        shadow = True,\n",
        "        autopct = '%1.0f%%',\n",
        "        labels = ['No', 'Yes'],\n",
        "        title = 'None'\n",
        "    )\n",
        "\n",
        "plot_target_distribution(train['status'])"
      ],
      "execution_count": 6,
      "outputs": [
        {
          "output_type": "stream",
          "name": "stdout",
          "text": [
            "Placed        90\n",
            "Not Placed    47\n",
            "Name: status, dtype: int64\n"
          ]
        },
        {
          "output_type": "display_data",
          "data": {
            "image/png": "[encoded data removed]",
            "text/plain": [
              "<Figure size 360x360 with 1 Axes>"
            ]
          },
          "metadata": {}
        }
      ]
    },
    {
      "cell_type": "markdown",
      "metadata": {
        "id": "kk9WZEbM8AIq"
      },
      "source": [
        "**Verifica di elementi nulli sul dataset**"
      ]
    },
    {
      "cell_type": "code",
      "metadata": {
        "colab": {
          "base_uri": "https://localhost:8080/"
        },
        "id": "dLDqt4Hk5ZPD",
        "outputId": "d4cdf69c-0153-4ef6-8099-939055790869"
      },
      "source": [
        "#Checking missing values on train + test set\n",
        "def get_cols_with_missing(train, test):\n",
        "    \n",
        "    return {\n",
        "        col: (train[col].isnull().sum() + test[col].isnull().sum())\n",
        "        for col in train.columns\n",
        "        if train[col].isnull().any() or test[col].isnull().any()\n",
        "    }\n",
        "\n",
        "get_cols_with_missing(train, test)"
      ],
      "execution_count": 7,
      "outputs": [
        {
          "output_type": "execute_result",
          "data": {
            "text/plain": [
              "{'salary': 55}"
            ]
          },
          "metadata": {},
          "execution_count": 7
        }
      ]
    },
    {
      "cell_type": "code",
      "metadata": {
        "colab": {
          "base_uri": "https://localhost:8080/"
        },
        "id": "gObd4WtYj7qr",
        "outputId": "9de438ab-7464-4f67-bcf8-fee91aa30ac1"
      },
      "source": [
        "#Checking missing values on train set\n",
        "missing_values_count = train['salary'].isnull().sum()\n",
        "missing_values_count"
      ],
      "execution_count": 8,
      "outputs": [
        {
          "output_type": "execute_result",
          "data": {
            "text/plain": [
              "47"
            ]
          },
          "metadata": {},
          "execution_count": 8
        }
      ]
    },
    {
      "cell_type": "code",
      "metadata": {
        "colab": {
          "base_uri": "https://localhost:8080/"
        },
        "id": "gRbBDjW2k7ut",
        "outputId": "c35b4783-aca8-4880-c550-edd3c928b165"
      },
      "source": [
        "#Checking missing values on test set\n",
        "missing_values_count = test['salary'].isnull().sum()\n",
        "missing_values_count"
      ],
      "execution_count": 9,
      "outputs": [
        {
          "output_type": "execute_result",
          "data": {
            "text/plain": [
              "8"
            ]
          },
          "metadata": {},
          "execution_count": 9
        }
      ]
    },
    {
      "cell_type": "code",
      "metadata": {
        "colab": {
          "base_uri": "https://localhost:8080/"
        },
        "id": "lPxsQPDmIk2Z",
        "outputId": "bd9cd54c-8b75-426b-9c86-9dcc16cf7157"
      },
      "source": [
        "#Filling missing values with remaining values' mean on train set\n",
        "train['salary'] = train['salary'].replace(np.NaN, 0)\n",
        "train['salary']"
      ],
      "execution_count": 10,
      "outputs": [
        {
          "output_type": "execute_result",
          "data": {
            "text/plain": [
              "0      252000.0\n",
              "1           0.0\n",
              "2           0.0\n",
              "3      360000.0\n",
              "4      300000.0\n",
              "         ...   \n",
              "132    300000.0\n",
              "133    360000.0\n",
              "134         0.0\n",
              "135    280000.0\n",
              "136    300000.0\n",
              "Name: salary, Length: 137, dtype: float64"
            ]
          },
          "metadata": {},
          "execution_count": 10
        }
      ]
    },
    {
      "cell_type": "code",
      "metadata": {
        "colab": {
          "base_uri": "https://localhost:8080/"
        },
        "id": "iLALX1zsJGxQ",
        "outputId": "1a9e2fe0-b0a1-4389-efb7-02fc22196b3d"
      },
      "source": [
        "#Filling missing values with remaining values' mean on test set\n",
        "test['salary'] = test['salary'].replace(np.NaN, 0)\n",
        "test['salary']"
      ],
      "execution_count": 11,
      "outputs": [
        {
          "output_type": "execute_result",
          "data": {
            "text/plain": [
              "0     216000.0\n",
              "1          0.0\n",
              "2     265000.0\n",
              "3     278000.0\n",
              "4     250000.0\n",
              "5     360000.0\n",
              "6     400000.0\n",
              "7     380000.0\n",
              "8     236000.0\n",
              "9     250000.0\n",
              "10    260000.0\n",
              "11         0.0\n",
              "12    250000.0\n",
              "13    218000.0\n",
              "14    240000.0\n",
              "15    200000.0\n",
              "16    350000.0\n",
              "17    940000.0\n",
              "18         0.0\n",
              "19    450000.0\n",
              "20         0.0\n",
              "21    216000.0\n",
              "22         0.0\n",
              "23    240000.0\n",
              "24    275000.0\n",
              "25         0.0\n",
              "26    250000.0\n",
              "27    210000.0\n",
              "28    240000.0\n",
              "29    300000.0\n",
              "30         0.0\n",
              "31    240000.0\n",
              "32         0.0\n",
              "33    240000.0\n",
              "34    236000.0\n",
              "Name: salary, dtype: float64"
            ]
          },
          "metadata": {},
          "execution_count": 11
        }
      ]
    },
    {
      "cell_type": "code",
      "metadata": {
        "colab": {
          "base_uri": "https://localhost:8080/"
        },
        "id": "15D5xNu_g45b",
        "outputId": "6cd75473-8d1e-4b99-dc11-e723a5bbddc3"
      },
      "source": [
        "#Verify Dtype\n",
        "train.info()"
      ],
      "execution_count": 12,
      "outputs": [
        {
          "output_type": "stream",
          "name": "stdout",
          "text": [
            "<class 'pandas.core.frame.DataFrame'>\n",
            "RangeIndex: 137 entries, 0 to 136\n",
            "Data columns (total 14 columns):\n",
            " #   Column          Non-Null Count  Dtype  \n",
            "---  ------          --------------  -----  \n",
            " 0   status          137 non-null    object \n",
            " 1   gender          137 non-null    object \n",
            " 2   ssc_p           137 non-null    float64\n",
            " 3   ssc_b           137 non-null    object \n",
            " 4   hsc_p           137 non-null    float64\n",
            " 5   hsc_b           137 non-null    object \n",
            " 6   hsc_s           137 non-null    object \n",
            " 7   degree_p        137 non-null    float64\n",
            " 8   degree_t        137 non-null    object \n",
            " 9   workex          137 non-null    object \n",
            " 10  etest_p         137 non-null    float64\n",
            " 11  specialisation  137 non-null    object \n",
            " 12  mba_p           137 non-null    float64\n",
            " 13  salary          137 non-null    float64\n",
            "dtypes: float64(6), object(8)\n",
            "memory usage: 15.1+ KB\n"
          ]
        }
      ]
    },
    {
      "cell_type": "markdown",
      "metadata": {
        "id": "NGbBVEjaqox1"
      },
      "source": [
        "**Analisi della feature 'gender'**"
      ]
    },
    {
      "cell_type": "code",
      "metadata": {
        "colab": {
          "base_uri": "https://localhost:8080/"
        },
        "id": "r31UBtxdpZsP",
        "outputId": "28c06a9e-d989-4c8b-ba8b-e00a982e846e"
      },
      "source": [
        "#Distribution count\n",
        "train.gender.value_counts()\n"
      ],
      "execution_count": 13,
      "outputs": [
        {
          "output_type": "execute_result",
          "data": {
            "text/plain": [
              "M    91\n",
              "F    46\n",
              "Name: gender, dtype: int64"
            ]
          },
          "metadata": {},
          "execution_count": 13
        }
      ]
    },
    {
      "cell_type": "markdown",
      "metadata": {
        "id": "oM3OBzjdpgjT"
      },
      "source": [
        "Gli uomini sono quasi il doppio rispetto alle donne, vediamo la distribuzione di 'status' sulla base del sesso:\n",
        "\n"
      ]
    },
    {
      "cell_type": "code",
      "metadata": {
        "colab": {
          "base_uri": "https://localhost:8080/",
          "height": 279
        },
        "id": "27dF-7LfoQqP",
        "outputId": "4456e5cd-b1c6-4a66-e21a-ecaed24cc85b"
      },
      "source": [
        "sns.countplot(x=train['gender'], hue='status', data=train)\n",
        "plt.show()"
      ],
      "execution_count": 14,
      "outputs": [
        {
          "output_type": "display_data",
          "data": {
            "image/png": "[encoded data removed]",
            "text/plain": [
              "<Figure size 432x288 with 1 Axes>"
            ]
          },
          "metadata": {
            "needs_background": "light"
          }
        }
      ]
    },
    {
      "cell_type": "markdown",
      "metadata": {
        "id": "wt4APESorqHi"
      },
      "source": [
        "Le possibilità di impiego per le donne sono evidentemente molto più limitate rispetto a quelle per gli uomini."
      ]
    },
    {
      "cell_type": "markdown",
      "metadata": {
        "id": "xEQ5JsU3ujZY"
      },
      "source": [
        "**Analisi della feature 'workex'**"
      ]
    },
    {
      "cell_type": "code",
      "metadata": {
        "colab": {
          "base_uri": "https://localhost:8080/",
          "height": 279
        },
        "id": "IH4UufCzuuMK",
        "outputId": "3da3a027-ed3c-45a8-e97e-ab1fd48d39fb"
      },
      "source": [
        "sns.countplot(x=train['workex'], hue='status', data=train)\n",
        "plt.show()"
      ],
      "execution_count": 15,
      "outputs": [
        {
          "output_type": "display_data",
          "data": {
            "image/png": "[encoded data removed]",
            "text/plain": [
              "<Figure size 432x288 with 1 Axes>"
            ]
          },
          "metadata": {
            "needs_background": "light"
          }
        }
      ]
    },
    {
      "cell_type": "markdown",
      "metadata": {
        "id": "6eb9QQt7uyY9"
      },
      "source": [
        "La percentuale di impiego per studenti che hanno già avuto una esperienza lavorativa è molto alta."
      ]
    },
    {
      "cell_type": "markdown",
      "metadata": {
        "id": "i1qQlc9Aw_Q2"
      },
      "source": [
        "**Analisi della feature 'specialisation'**"
      ]
    },
    {
      "cell_type": "code",
      "metadata": {
        "colab": {
          "base_uri": "https://localhost:8080/",
          "height": 279
        },
        "id": "ZmhfZoq2xFHH",
        "outputId": "978f9018-e1b6-4877-df7e-9b9f75fdb17b"
      },
      "source": [
        "sns.countplot(x=train['specialisation'], hue='status', data=train)\n",
        "plt.show()"
      ],
      "execution_count": 16,
      "outputs": [
        {
          "output_type": "display_data",
          "data": {
            "image/png": "[encoded data removed]",
            "text/plain": [
              "<Figure size 432x288 with 1 Axes>"
            ]
          },
          "metadata": {
            "needs_background": "light"
          }
        }
      ]
    },
    {
      "cell_type": "markdown",
      "metadata": {
        "id": "KjsPG3bRxVVx"
      },
      "source": [
        "La specializzazione in Mkt&Fin offre molte più opportunità lavorative."
      ]
    },
    {
      "cell_type": "markdown",
      "metadata": {
        "id": "kCEVZJ10xdEm"
      },
      "source": [
        "**Feature enconding**"
      ]
    },
    {
      "cell_type": "code",
      "metadata": {
        "id": "49bt-Fu8lK5o"
      },
      "source": [
        "lEncoder = preprocessing.LabelEncoder()\n",
        "\n",
        "for l in train:\n",
        "   if ((l=='status') or (l=='gender') or (l=='workex') or (l=='specialisation') or (l=='ssc_b') or (l=='hsc_b') or (l=='degree_t') or (l=='hsc_s')):\n",
        "      train[l]=lEncoder.fit_transform(train[l].astype(str))\n",
        "      test[l]=lEncoder.fit_transform(test[l].astype(str))"
      ],
      "execution_count": 17,
      "outputs": []
    },
    {
      "cell_type": "code",
      "metadata": {
        "colab": {
          "base_uri": "https://localhost:8080/",
          "height": 419
        },
        "id": "8v3UvLLsnylC",
        "outputId": "3dde5d3f-e69c-4d1d-9d4f-2b43affb7282"
      },
      "source": [
        "#Show encoded train dataset\n",
        "train"
      ],
      "execution_count": 18,
      "outputs": [
        {
          "output_type": "execute_result",
          "data": {
            "text/html": [
              "<div>\n",
              "<style scoped>\n",
              "    .dataframe tbody tr th:only-of-type {\n",
              "        vertical-align: middle;\n",
              "    }\n",
              "\n",
              "    .dataframe tbody tr th {\n",
              "        vertical-align: top;\n",
              "    }\n",
              "\n",
              "    .dataframe thead th {\n",
              "        text-align: right;\n",
              "    }\n",
              "</style>\n",
              "<table border=\"1\" class=\"dataframe\">\n",
              "  <thead>\n",
              "    <tr style=\"text-align: right;\">\n",
              "      <th></th>\n",
              "      <th>status</th>\n",
              "      <th>gender</th>\n",
              "      <th>ssc_p</th>\n",
              "      <th>ssc_b</th>\n",
              "      <th>hsc_p</th>\n",
              "      <th>hsc_b</th>\n",
              "      <th>hsc_s</th>\n",
              "      <th>degree_p</th>\n",
              "      <th>degree_t</th>\n",
              "      <th>workex</th>\n",
              "      <th>etest_p</th>\n",
              "      <th>specialisation</th>\n",
              "      <th>mba_p</th>\n",
              "      <th>salary</th>\n",
              "    </tr>\n",
              "  </thead>\n",
              "  <tbody>\n",
              "    <tr>\n",
              "      <th>0</th>\n",
              "      <td>1</td>\n",
              "      <td>1</td>\n",
              "      <td>82.00</td>\n",
              "      <td>0</td>\n",
              "      <td>64.00</td>\n",
              "      <td>0</td>\n",
              "      <td>2</td>\n",
              "      <td>66.00</td>\n",
              "      <td>2</td>\n",
              "      <td>1</td>\n",
              "      <td>67.00</td>\n",
              "      <td>0</td>\n",
              "      <td>62.14</td>\n",
              "      <td>252000.0</td>\n",
              "    </tr>\n",
              "    <tr>\n",
              "      <th>1</th>\n",
              "      <td>0</td>\n",
              "      <td>0</td>\n",
              "      <td>70.50</td>\n",
              "      <td>0</td>\n",
              "      <td>62.50</td>\n",
              "      <td>1</td>\n",
              "      <td>1</td>\n",
              "      <td>61.00</td>\n",
              "      <td>0</td>\n",
              "      <td>0</td>\n",
              "      <td>93.91</td>\n",
              "      <td>0</td>\n",
              "      <td>69.03</td>\n",
              "      <td>0.0</td>\n",
              "    </tr>\n",
              "    <tr>\n",
              "      <th>2</th>\n",
              "      <td>0</td>\n",
              "      <td>1</td>\n",
              "      <td>52.00</td>\n",
              "      <td>1</td>\n",
              "      <td>50.00</td>\n",
              "      <td>1</td>\n",
              "      <td>0</td>\n",
              "      <td>61.00</td>\n",
              "      <td>0</td>\n",
              "      <td>0</td>\n",
              "      <td>60.00</td>\n",
              "      <td>0</td>\n",
              "      <td>58.52</td>\n",
              "      <td>0.0</td>\n",
              "    </tr>\n",
              "    <tr>\n",
              "      <th>3</th>\n",
              "      <td>1</td>\n",
              "      <td>0</td>\n",
              "      <td>74.90</td>\n",
              "      <td>1</td>\n",
              "      <td>57.00</td>\n",
              "      <td>1</td>\n",
              "      <td>2</td>\n",
              "      <td>62.00</td>\n",
              "      <td>1</td>\n",
              "      <td>1</td>\n",
              "      <td>80.00</td>\n",
              "      <td>0</td>\n",
              "      <td>60.78</td>\n",
              "      <td>360000.0</td>\n",
              "    </tr>\n",
              "    <tr>\n",
              "      <th>4</th>\n",
              "      <td>1</td>\n",
              "      <td>1</td>\n",
              "      <td>77.67</td>\n",
              "      <td>1</td>\n",
              "      <td>64.89</td>\n",
              "      <td>1</td>\n",
              "      <td>1</td>\n",
              "      <td>70.67</td>\n",
              "      <td>0</td>\n",
              "      <td>0</td>\n",
              "      <td>89.00</td>\n",
              "      <td>0</td>\n",
              "      <td>60.39</td>\n",
              "      <td>300000.0</td>\n",
              "    </tr>\n",
              "    <tr>\n",
              "      <th>...</th>\n",
              "      <td>...</td>\n",
              "      <td>...</td>\n",
              "      <td>...</td>\n",
              "      <td>...</td>\n",
              "      <td>...</td>\n",
              "      <td>...</td>\n",
              "      <td>...</td>\n",
              "      <td>...</td>\n",
              "      <td>...</td>\n",
              "      <td>...</td>\n",
              "      <td>...</td>\n",
              "      <td>...</td>\n",
              "      <td>...</td>\n",
              "      <td>...</td>\n",
              "    </tr>\n",
              "    <tr>\n",
              "      <th>132</th>\n",
              "      <td>1</td>\n",
              "      <td>0</td>\n",
              "      <td>85.00</td>\n",
              "      <td>1</td>\n",
              "      <td>90.00</td>\n",
              "      <td>1</td>\n",
              "      <td>1</td>\n",
              "      <td>82.00</td>\n",
              "      <td>0</td>\n",
              "      <td>0</td>\n",
              "      <td>92.00</td>\n",
              "      <td>0</td>\n",
              "      <td>68.03</td>\n",
              "      <td>300000.0</td>\n",
              "    </tr>\n",
              "    <tr>\n",
              "      <th>133</th>\n",
              "      <td>1</td>\n",
              "      <td>1</td>\n",
              "      <td>76.50</td>\n",
              "      <td>1</td>\n",
              "      <td>97.70</td>\n",
              "      <td>1</td>\n",
              "      <td>2</td>\n",
              "      <td>78.86</td>\n",
              "      <td>2</td>\n",
              "      <td>0</td>\n",
              "      <td>97.40</td>\n",
              "      <td>0</td>\n",
              "      <td>74.01</td>\n",
              "      <td>360000.0</td>\n",
              "    </tr>\n",
              "    <tr>\n",
              "      <th>134</th>\n",
              "      <td>0</td>\n",
              "      <td>0</td>\n",
              "      <td>63.30</td>\n",
              "      <td>0</td>\n",
              "      <td>78.33</td>\n",
              "      <td>1</td>\n",
              "      <td>1</td>\n",
              "      <td>74.00</td>\n",
              "      <td>0</td>\n",
              "      <td>0</td>\n",
              "      <td>80.00</td>\n",
              "      <td>0</td>\n",
              "      <td>74.56</td>\n",
              "      <td>0.0</td>\n",
              "    </tr>\n",
              "    <tr>\n",
              "      <th>135</th>\n",
              "      <td>1</td>\n",
              "      <td>0</td>\n",
              "      <td>73.96</td>\n",
              "      <td>1</td>\n",
              "      <td>79.00</td>\n",
              "      <td>1</td>\n",
              "      <td>1</td>\n",
              "      <td>67.00</td>\n",
              "      <td>0</td>\n",
              "      <td>0</td>\n",
              "      <td>72.15</td>\n",
              "      <td>0</td>\n",
              "      <td>63.08</td>\n",
              "      <td>280000.0</td>\n",
              "    </tr>\n",
              "    <tr>\n",
              "      <th>136</th>\n",
              "      <td>1</td>\n",
              "      <td>0</td>\n",
              "      <td>69.00</td>\n",
              "      <td>0</td>\n",
              "      <td>78.00</td>\n",
              "      <td>0</td>\n",
              "      <td>1</td>\n",
              "      <td>72.00</td>\n",
              "      <td>0</td>\n",
              "      <td>0</td>\n",
              "      <td>71.00</td>\n",
              "      <td>1</td>\n",
              "      <td>62.74</td>\n",
              "      <td>300000.0</td>\n",
              "    </tr>\n",
              "  </tbody>\n",
              "</table>\n",
              "<p>137 rows × 14 columns</p>\n",
              "</div>"
            ],
            "text/plain": [
              "     status  gender  ssc_p  ssc_b  ...  etest_p  specialisation  mba_p    salary\n",
              "0         1       1  82.00      0  ...    67.00               0  62.14  252000.0\n",
              "1         0       0  70.50      0  ...    93.91               0  69.03       0.0\n",
              "2         0       1  52.00      1  ...    60.00               0  58.52       0.0\n",
              "3         1       0  74.90      1  ...    80.00               0  60.78  360000.0\n",
              "4         1       1  77.67      1  ...    89.00               0  60.39  300000.0\n",
              "..      ...     ...    ...    ...  ...      ...             ...    ...       ...\n",
              "132       1       0  85.00      1  ...    92.00               0  68.03  300000.0\n",
              "133       1       1  76.50      1  ...    97.40               0  74.01  360000.0\n",
              "134       0       0  63.30      0  ...    80.00               0  74.56       0.0\n",
              "135       1       0  73.96      1  ...    72.15               0  63.08  280000.0\n",
              "136       1       0  69.00      0  ...    71.00               1  62.74  300000.0\n",
              "\n",
              "[137 rows x 14 columns]"
            ]
          },
          "metadata": {},
          "execution_count": 18
        }
      ]
    },
    {
      "cell_type": "code",
      "metadata": {
        "colab": {
          "base_uri": "https://localhost:8080/",
          "height": 1000
        },
        "id": "fsjhmgwZn-Q5",
        "outputId": "3141644a-fa98-4fb7-e745-834be3c53e93"
      },
      "source": [
        "#Show encoded test dataset\n",
        "test"
      ],
      "execution_count": 19,
      "outputs": [
        {
          "output_type": "execute_result",
          "data": {
            "text/html": [
              "<div>\n",
              "<style scoped>\n",
              "    .dataframe tbody tr th:only-of-type {\n",
              "        vertical-align: middle;\n",
              "    }\n",
              "\n",
              "    .dataframe tbody tr th {\n",
              "        vertical-align: top;\n",
              "    }\n",
              "\n",
              "    .dataframe thead th {\n",
              "        text-align: right;\n",
              "    }\n",
              "</style>\n",
              "<table border=\"1\" class=\"dataframe\">\n",
              "  <thead>\n",
              "    <tr style=\"text-align: right;\">\n",
              "      <th></th>\n",
              "      <th>status</th>\n",
              "      <th>gender</th>\n",
              "      <th>ssc_p</th>\n",
              "      <th>ssc_b</th>\n",
              "      <th>hsc_p</th>\n",
              "      <th>hsc_b</th>\n",
              "      <th>hsc_s</th>\n",
              "      <th>degree_p</th>\n",
              "      <th>degree_t</th>\n",
              "      <th>workex</th>\n",
              "      <th>etest_p</th>\n",
              "      <th>specialisation</th>\n",
              "      <th>mba_p</th>\n",
              "      <th>salary</th>\n",
              "    </tr>\n",
              "  </thead>\n",
              "  <tbody>\n",
              "    <tr>\n",
              "      <th>0</th>\n",
              "      <td>1</td>\n",
              "      <td>1</td>\n",
              "      <td>62.00</td>\n",
              "      <td>0</td>\n",
              "      <td>72.00</td>\n",
              "      <td>0</td>\n",
              "      <td>1</td>\n",
              "      <td>65.00</td>\n",
              "      <td>0</td>\n",
              "      <td>0</td>\n",
              "      <td>67.00</td>\n",
              "      <td>0</td>\n",
              "      <td>56.49</td>\n",
              "      <td>216000.0</td>\n",
              "    </tr>\n",
              "    <tr>\n",
              "      <th>1</th>\n",
              "      <td>0</td>\n",
              "      <td>1</td>\n",
              "      <td>52.00</td>\n",
              "      <td>1</td>\n",
              "      <td>65.00</td>\n",
              "      <td>1</td>\n",
              "      <td>0</td>\n",
              "      <td>57.00</td>\n",
              "      <td>1</td>\n",
              "      <td>1</td>\n",
              "      <td>75.00</td>\n",
              "      <td>0</td>\n",
              "      <td>59.81</td>\n",
              "      <td>0.0</td>\n",
              "    </tr>\n",
              "    <tr>\n",
              "      <th>2</th>\n",
              "      <td>1</td>\n",
              "      <td>1</td>\n",
              "      <td>65.00</td>\n",
              "      <td>0</td>\n",
              "      <td>71.50</td>\n",
              "      <td>1</td>\n",
              "      <td>1</td>\n",
              "      <td>62.80</td>\n",
              "      <td>0</td>\n",
              "      <td>1</td>\n",
              "      <td>57.00</td>\n",
              "      <td>0</td>\n",
              "      <td>56.60</td>\n",
              "      <td>265000.0</td>\n",
              "    </tr>\n",
              "    <tr>\n",
              "      <th>3</th>\n",
              "      <td>1</td>\n",
              "      <td>0</td>\n",
              "      <td>61.00</td>\n",
              "      <td>0</td>\n",
              "      <td>81.00</td>\n",
              "      <td>0</td>\n",
              "      <td>1</td>\n",
              "      <td>66.40</td>\n",
              "      <td>0</td>\n",
              "      <td>0</td>\n",
              "      <td>50.89</td>\n",
              "      <td>1</td>\n",
              "      <td>62.21</td>\n",
              "      <td>278000.0</td>\n",
              "    </tr>\n",
              "    <tr>\n",
              "      <th>4</th>\n",
              "      <td>1</td>\n",
              "      <td>0</td>\n",
              "      <td>77.44</td>\n",
              "      <td>0</td>\n",
              "      <td>92.00</td>\n",
              "      <td>1</td>\n",
              "      <td>1</td>\n",
              "      <td>72.00</td>\n",
              "      <td>0</td>\n",
              "      <td>1</td>\n",
              "      <td>94.00</td>\n",
              "      <td>0</td>\n",
              "      <td>67.13</td>\n",
              "      <td>250000.0</td>\n",
              "    </tr>\n",
              "    <tr>\n",
              "      <th>5</th>\n",
              "      <td>1</td>\n",
              "      <td>0</td>\n",
              "      <td>69.80</td>\n",
              "      <td>1</td>\n",
              "      <td>60.80</td>\n",
              "      <td>1</td>\n",
              "      <td>2</td>\n",
              "      <td>72.23</td>\n",
              "      <td>2</td>\n",
              "      <td>0</td>\n",
              "      <td>55.53</td>\n",
              "      <td>1</td>\n",
              "      <td>68.81</td>\n",
              "      <td>360000.0</td>\n",
              "    </tr>\n",
              "    <tr>\n",
              "      <th>6</th>\n",
              "      <td>1</td>\n",
              "      <td>1</td>\n",
              "      <td>80.60</td>\n",
              "      <td>1</td>\n",
              "      <td>82.00</td>\n",
              "      <td>1</td>\n",
              "      <td>1</td>\n",
              "      <td>77.60</td>\n",
              "      <td>0</td>\n",
              "      <td>0</td>\n",
              "      <td>91.00</td>\n",
              "      <td>0</td>\n",
              "      <td>74.49</td>\n",
              "      <td>400000.0</td>\n",
              "    </tr>\n",
              "    <tr>\n",
              "      <th>7</th>\n",
              "      <td>1</td>\n",
              "      <td>1</td>\n",
              "      <td>63.00</td>\n",
              "      <td>0</td>\n",
              "      <td>72.00</td>\n",
              "      <td>0</td>\n",
              "      <td>1</td>\n",
              "      <td>68.00</td>\n",
              "      <td>0</td>\n",
              "      <td>0</td>\n",
              "      <td>78.00</td>\n",
              "      <td>1</td>\n",
              "      <td>60.44</td>\n",
              "      <td>380000.0</td>\n",
              "    </tr>\n",
              "    <tr>\n",
              "      <th>8</th>\n",
              "      <td>1</td>\n",
              "      <td>0</td>\n",
              "      <td>66.50</td>\n",
              "      <td>0</td>\n",
              "      <td>66.80</td>\n",
              "      <td>0</td>\n",
              "      <td>0</td>\n",
              "      <td>69.30</td>\n",
              "      <td>0</td>\n",
              "      <td>1</td>\n",
              "      <td>80.40</td>\n",
              "      <td>0</td>\n",
              "      <td>71.00</td>\n",
              "      <td>236000.0</td>\n",
              "    </tr>\n",
              "    <tr>\n",
              "      <th>9</th>\n",
              "      <td>1</td>\n",
              "      <td>0</td>\n",
              "      <td>72.00</td>\n",
              "      <td>1</td>\n",
              "      <td>60.00</td>\n",
              "      <td>1</td>\n",
              "      <td>2</td>\n",
              "      <td>69.00</td>\n",
              "      <td>0</td>\n",
              "      <td>0</td>\n",
              "      <td>55.50</td>\n",
              "      <td>1</td>\n",
              "      <td>58.40</td>\n",
              "      <td>250000.0</td>\n",
              "    </tr>\n",
              "    <tr>\n",
              "      <th>10</th>\n",
              "      <td>1</td>\n",
              "      <td>1</td>\n",
              "      <td>58.00</td>\n",
              "      <td>0</td>\n",
              "      <td>61.00</td>\n",
              "      <td>0</td>\n",
              "      <td>1</td>\n",
              "      <td>60.00</td>\n",
              "      <td>0</td>\n",
              "      <td>1</td>\n",
              "      <td>62.00</td>\n",
              "      <td>1</td>\n",
              "      <td>60.85</td>\n",
              "      <td>260000.0</td>\n",
              "    </tr>\n",
              "    <tr>\n",
              "      <th>11</th>\n",
              "      <td>0</td>\n",
              "      <td>1</td>\n",
              "      <td>62.00</td>\n",
              "      <td>0</td>\n",
              "      <td>47.00</td>\n",
              "      <td>0</td>\n",
              "      <td>1</td>\n",
              "      <td>50.00</td>\n",
              "      <td>0</td>\n",
              "      <td>0</td>\n",
              "      <td>76.00</td>\n",
              "      <td>1</td>\n",
              "      <td>54.96</td>\n",
              "      <td>0.0</td>\n",
              "    </tr>\n",
              "    <tr>\n",
              "      <th>12</th>\n",
              "      <td>1</td>\n",
              "      <td>1</td>\n",
              "      <td>76.70</td>\n",
              "      <td>0</td>\n",
              "      <td>89.70</td>\n",
              "      <td>1</td>\n",
              "      <td>1</td>\n",
              "      <td>66.00</td>\n",
              "      <td>0</td>\n",
              "      <td>1</td>\n",
              "      <td>90.00</td>\n",
              "      <td>0</td>\n",
              "      <td>68.55</td>\n",
              "      <td>250000.0</td>\n",
              "    </tr>\n",
              "    <tr>\n",
              "      <th>13</th>\n",
              "      <td>1</td>\n",
              "      <td>0</td>\n",
              "      <td>77.00</td>\n",
              "      <td>0</td>\n",
              "      <td>87.00</td>\n",
              "      <td>0</td>\n",
              "      <td>1</td>\n",
              "      <td>59.00</td>\n",
              "      <td>0</td>\n",
              "      <td>0</td>\n",
              "      <td>68.00</td>\n",
              "      <td>0</td>\n",
              "      <td>68.63</td>\n",
              "      <td>218000.0</td>\n",
              "    </tr>\n",
              "    <tr>\n",
              "      <th>14</th>\n",
              "      <td>1</td>\n",
              "      <td>0</td>\n",
              "      <td>86.50</td>\n",
              "      <td>1</td>\n",
              "      <td>64.20</td>\n",
              "      <td>1</td>\n",
              "      <td>2</td>\n",
              "      <td>67.40</td>\n",
              "      <td>2</td>\n",
              "      <td>0</td>\n",
              "      <td>59.00</td>\n",
              "      <td>0</td>\n",
              "      <td>59.69</td>\n",
              "      <td>240000.0</td>\n",
              "    </tr>\n",
              "    <tr>\n",
              "      <th>15</th>\n",
              "      <td>1</td>\n",
              "      <td>1</td>\n",
              "      <td>79.33</td>\n",
              "      <td>0</td>\n",
              "      <td>78.33</td>\n",
              "      <td>1</td>\n",
              "      <td>2</td>\n",
              "      <td>77.48</td>\n",
              "      <td>2</td>\n",
              "      <td>1</td>\n",
              "      <td>86.50</td>\n",
              "      <td>0</td>\n",
              "      <td>66.28</td>\n",
              "      <td>200000.0</td>\n",
              "    </tr>\n",
              "    <tr>\n",
              "      <th>16</th>\n",
              "      <td>1</td>\n",
              "      <td>1</td>\n",
              "      <td>68.00</td>\n",
              "      <td>1</td>\n",
              "      <td>56.00</td>\n",
              "      <td>1</td>\n",
              "      <td>2</td>\n",
              "      <td>68.00</td>\n",
              "      <td>2</td>\n",
              "      <td>0</td>\n",
              "      <td>73.00</td>\n",
              "      <td>1</td>\n",
              "      <td>68.07</td>\n",
              "      <td>350000.0</td>\n",
              "    </tr>\n",
              "    <tr>\n",
              "      <th>17</th>\n",
              "      <td>1</td>\n",
              "      <td>1</td>\n",
              "      <td>60.80</td>\n",
              "      <td>0</td>\n",
              "      <td>68.40</td>\n",
              "      <td>0</td>\n",
              "      <td>1</td>\n",
              "      <td>64.60</td>\n",
              "      <td>0</td>\n",
              "      <td>1</td>\n",
              "      <td>82.66</td>\n",
              "      <td>0</td>\n",
              "      <td>64.34</td>\n",
              "      <td>940000.0</td>\n",
              "    </tr>\n",
              "    <tr>\n",
              "      <th>18</th>\n",
              "      <td>0</td>\n",
              "      <td>0</td>\n",
              "      <td>67.00</td>\n",
              "      <td>0</td>\n",
              "      <td>70.00</td>\n",
              "      <td>0</td>\n",
              "      <td>1</td>\n",
              "      <td>65.00</td>\n",
              "      <td>1</td>\n",
              "      <td>0</td>\n",
              "      <td>88.00</td>\n",
              "      <td>1</td>\n",
              "      <td>71.96</td>\n",
              "      <td>0.0</td>\n",
              "    </tr>\n",
              "    <tr>\n",
              "      <th>19</th>\n",
              "      <td>1</td>\n",
              "      <td>1</td>\n",
              "      <td>80.00</td>\n",
              "      <td>1</td>\n",
              "      <td>70.00</td>\n",
              "      <td>1</td>\n",
              "      <td>2</td>\n",
              "      <td>72.00</td>\n",
              "      <td>2</td>\n",
              "      <td>0</td>\n",
              "      <td>87.00</td>\n",
              "      <td>1</td>\n",
              "      <td>71.04</td>\n",
              "      <td>450000.0</td>\n",
              "    </tr>\n",
              "    <tr>\n",
              "      <th>20</th>\n",
              "      <td>0</td>\n",
              "      <td>1</td>\n",
              "      <td>61.80</td>\n",
              "      <td>1</td>\n",
              "      <td>47.00</td>\n",
              "      <td>1</td>\n",
              "      <td>1</td>\n",
              "      <td>54.38</td>\n",
              "      <td>0</td>\n",
              "      <td>0</td>\n",
              "      <td>57.00</td>\n",
              "      <td>0</td>\n",
              "      <td>56.13</td>\n",
              "      <td>0.0</td>\n",
              "    </tr>\n",
              "    <tr>\n",
              "      <th>21</th>\n",
              "      <td>1</td>\n",
              "      <td>0</td>\n",
              "      <td>74.00</td>\n",
              "      <td>0</td>\n",
              "      <td>60.00</td>\n",
              "      <td>1</td>\n",
              "      <td>2</td>\n",
              "      <td>69.00</td>\n",
              "      <td>0</td>\n",
              "      <td>0</td>\n",
              "      <td>78.00</td>\n",
              "      <td>1</td>\n",
              "      <td>65.56</td>\n",
              "      <td>216000.0</td>\n",
              "    </tr>\n",
              "    <tr>\n",
              "      <th>22</th>\n",
              "      <td>0</td>\n",
              "      <td>1</td>\n",
              "      <td>55.00</td>\n",
              "      <td>1</td>\n",
              "      <td>49.80</td>\n",
              "      <td>1</td>\n",
              "      <td>2</td>\n",
              "      <td>67.25</td>\n",
              "      <td>2</td>\n",
              "      <td>1</td>\n",
              "      <td>55.00</td>\n",
              "      <td>0</td>\n",
              "      <td>51.58</td>\n",
              "      <td>0.0</td>\n",
              "    </tr>\n",
              "    <tr>\n",
              "      <th>23</th>\n",
              "      <td>1</td>\n",
              "      <td>0</td>\n",
              "      <td>73.00</td>\n",
              "      <td>1</td>\n",
              "      <td>58.00</td>\n",
              "      <td>1</td>\n",
              "      <td>2</td>\n",
              "      <td>66.00</td>\n",
              "      <td>0</td>\n",
              "      <td>0</td>\n",
              "      <td>53.70</td>\n",
              "      <td>1</td>\n",
              "      <td>56.86</td>\n",
              "      <td>240000.0</td>\n",
              "    </tr>\n",
              "    <tr>\n",
              "      <th>24</th>\n",
              "      <td>1</td>\n",
              "      <td>1</td>\n",
              "      <td>66.00</td>\n",
              "      <td>0</td>\n",
              "      <td>76.00</td>\n",
              "      <td>0</td>\n",
              "      <td>1</td>\n",
              "      <td>72.00</td>\n",
              "      <td>0</td>\n",
              "      <td>1</td>\n",
              "      <td>84.00</td>\n",
              "      <td>1</td>\n",
              "      <td>58.95</td>\n",
              "      <td>275000.0</td>\n",
              "    </tr>\n",
              "    <tr>\n",
              "      <th>25</th>\n",
              "      <td>0</td>\n",
              "      <td>0</td>\n",
              "      <td>46.00</td>\n",
              "      <td>1</td>\n",
              "      <td>49.20</td>\n",
              "      <td>1</td>\n",
              "      <td>1</td>\n",
              "      <td>79.00</td>\n",
              "      <td>0</td>\n",
              "      <td>0</td>\n",
              "      <td>74.28</td>\n",
              "      <td>0</td>\n",
              "      <td>53.29</td>\n",
              "      <td>0.0</td>\n",
              "    </tr>\n",
              "    <tr>\n",
              "      <th>26</th>\n",
              "      <td>1</td>\n",
              "      <td>1</td>\n",
              "      <td>65.00</td>\n",
              "      <td>0</td>\n",
              "      <td>68.00</td>\n",
              "      <td>0</td>\n",
              "      <td>0</td>\n",
              "      <td>64.00</td>\n",
              "      <td>0</td>\n",
              "      <td>0</td>\n",
              "      <td>75.00</td>\n",
              "      <td>0</td>\n",
              "      <td>57.80</td>\n",
              "      <td>250000.0</td>\n",
              "    </tr>\n",
              "    <tr>\n",
              "      <th>27</th>\n",
              "      <td>1</td>\n",
              "      <td>0</td>\n",
              "      <td>66.00</td>\n",
              "      <td>0</td>\n",
              "      <td>62.00</td>\n",
              "      <td>0</td>\n",
              "      <td>1</td>\n",
              "      <td>73.00</td>\n",
              "      <td>0</td>\n",
              "      <td>0</td>\n",
              "      <td>58.00</td>\n",
              "      <td>1</td>\n",
              "      <td>64.36</td>\n",
              "      <td>210000.0</td>\n",
              "    </tr>\n",
              "    <tr>\n",
              "      <th>28</th>\n",
              "      <td>1</td>\n",
              "      <td>1</td>\n",
              "      <td>74.00</td>\n",
              "      <td>1</td>\n",
              "      <td>59.00</td>\n",
              "      <td>1</td>\n",
              "      <td>1</td>\n",
              "      <td>73.00</td>\n",
              "      <td>0</td>\n",
              "      <td>1</td>\n",
              "      <td>60.00</td>\n",
              "      <td>1</td>\n",
              "      <td>56.70</td>\n",
              "      <td>240000.0</td>\n",
              "    </tr>\n",
              "    <tr>\n",
              "      <th>29</th>\n",
              "      <td>1</td>\n",
              "      <td>1</td>\n",
              "      <td>83.33</td>\n",
              "      <td>0</td>\n",
              "      <td>78.00</td>\n",
              "      <td>1</td>\n",
              "      <td>1</td>\n",
              "      <td>61.00</td>\n",
              "      <td>0</td>\n",
              "      <td>1</td>\n",
              "      <td>88.56</td>\n",
              "      <td>0</td>\n",
              "      <td>71.55</td>\n",
              "      <td>300000.0</td>\n",
              "    </tr>\n",
              "    <tr>\n",
              "      <th>30</th>\n",
              "      <td>0</td>\n",
              "      <td>1</td>\n",
              "      <td>44.00</td>\n",
              "      <td>0</td>\n",
              "      <td>58.00</td>\n",
              "      <td>0</td>\n",
              "      <td>0</td>\n",
              "      <td>55.00</td>\n",
              "      <td>0</td>\n",
              "      <td>1</td>\n",
              "      <td>64.25</td>\n",
              "      <td>1</td>\n",
              "      <td>58.54</td>\n",
              "      <td>0.0</td>\n",
              "    </tr>\n",
              "    <tr>\n",
              "      <th>31</th>\n",
              "      <td>1</td>\n",
              "      <td>1</td>\n",
              "      <td>63.00</td>\n",
              "      <td>1</td>\n",
              "      <td>71.40</td>\n",
              "      <td>1</td>\n",
              "      <td>1</td>\n",
              "      <td>61.40</td>\n",
              "      <td>0</td>\n",
              "      <td>0</td>\n",
              "      <td>68.00</td>\n",
              "      <td>0</td>\n",
              "      <td>66.88</td>\n",
              "      <td>240000.0</td>\n",
              "    </tr>\n",
              "    <tr>\n",
              "      <th>32</th>\n",
              "      <td>0</td>\n",
              "      <td>1</td>\n",
              "      <td>56.00</td>\n",
              "      <td>0</td>\n",
              "      <td>52.00</td>\n",
              "      <td>0</td>\n",
              "      <td>2</td>\n",
              "      <td>52.00</td>\n",
              "      <td>2</td>\n",
              "      <td>0</td>\n",
              "      <td>66.00</td>\n",
              "      <td>1</td>\n",
              "      <td>59.43</td>\n",
              "      <td>0.0</td>\n",
              "    </tr>\n",
              "    <tr>\n",
              "      <th>33</th>\n",
              "      <td>1</td>\n",
              "      <td>0</td>\n",
              "      <td>69.00</td>\n",
              "      <td>1</td>\n",
              "      <td>62.00</td>\n",
              "      <td>1</td>\n",
              "      <td>1</td>\n",
              "      <td>69.00</td>\n",
              "      <td>0</td>\n",
              "      <td>1</td>\n",
              "      <td>67.00</td>\n",
              "      <td>1</td>\n",
              "      <td>62.35</td>\n",
              "      <td>240000.0</td>\n",
              "    </tr>\n",
              "    <tr>\n",
              "      <th>34</th>\n",
              "      <td>1</td>\n",
              "      <td>1</td>\n",
              "      <td>60.00</td>\n",
              "      <td>1</td>\n",
              "      <td>67.00</td>\n",
              "      <td>1</td>\n",
              "      <td>0</td>\n",
              "      <td>70.00</td>\n",
              "      <td>0</td>\n",
              "      <td>1</td>\n",
              "      <td>50.48</td>\n",
              "      <td>0</td>\n",
              "      <td>77.89</td>\n",
              "      <td>236000.0</td>\n",
              "    </tr>\n",
              "  </tbody>\n",
              "</table>\n",
              "</div>"
            ],
            "text/plain": [
              "    status  gender  ssc_p  ssc_b  ...  etest_p  specialisation  mba_p    salary\n",
              "0        1       1  62.00      0  ...    67.00               0  56.49  216000.0\n",
              "1        0       1  52.00      1  ...    75.00               0  59.81       0.0\n",
              "2        1       1  65.00      0  ...    57.00               0  56.60  265000.0\n",
              "3        1       0  61.00      0  ...    50.89               1  62.21  278000.0\n",
              "4        1       0  77.44      0  ...    94.00               0  67.13  250000.0\n",
              "5        1       0  69.80      1  ...    55.53               1  68.81  360000.0\n",
              "6        1       1  80.60      1  ...    91.00               0  74.49  400000.0\n",
              "7        1       1  63.00      0  ...    78.00               1  60.44  380000.0\n",
              "8        1       0  66.50      0  ...    80.40               0  71.00  236000.0\n",
              "9        1       0  72.00      1  ...    55.50               1  58.40  250000.0\n",
              "10       1       1  58.00      0  ...    62.00               1  60.85  260000.0\n",
              "11       0       1  62.00      0  ...    76.00               1  54.96       0.0\n",
              "12       1       1  76.70      0  ...    90.00               0  68.55  250000.0\n",
              "13       1       0  77.00      0  ...    68.00               0  68.63  218000.0\n",
              "14       1       0  86.50      1  ...    59.00               0  59.69  240000.0\n",
              "15       1       1  79.33      0  ...    86.50               0  66.28  200000.0\n",
              "16       1       1  68.00      1  ...    73.00               1  68.07  350000.0\n",
              "17       1       1  60.80      0  ...    82.66               0  64.34  940000.0\n",
              "18       0       0  67.00      0  ...    88.00               1  71.96       0.0\n",
              "19       1       1  80.00      1  ...    87.00               1  71.04  450000.0\n",
              "20       0       1  61.80      1  ...    57.00               0  56.13       0.0\n",
              "21       1       0  74.00      0  ...    78.00               1  65.56  216000.0\n",
              "22       0       1  55.00      1  ...    55.00               0  51.58       0.0\n",
              "23       1       0  73.00      1  ...    53.70               1  56.86  240000.0\n",
              "24       1       1  66.00      0  ...    84.00               1  58.95  275000.0\n",
              "25       0       0  46.00      1  ...    74.28               0  53.29       0.0\n",
              "26       1       1  65.00      0  ...    75.00               0  57.80  250000.0\n",
              "27       1       0  66.00      0  ...    58.00               1  64.36  210000.0\n",
              "28       1       1  74.00      1  ...    60.00               1  56.70  240000.0\n",
              "29       1       1  83.33      0  ...    88.56               0  71.55  300000.0\n",
              "30       0       1  44.00      0  ...    64.25               1  58.54       0.0\n",
              "31       1       1  63.00      1  ...    68.00               0  66.88  240000.0\n",
              "32       0       1  56.00      0  ...    66.00               1  59.43       0.0\n",
              "33       1       0  69.00      1  ...    67.00               1  62.35  240000.0\n",
              "34       1       1  60.00      1  ...    50.48               0  77.89  236000.0\n",
              "\n",
              "[35 rows x 14 columns]"
            ]
          },
          "metadata": {},
          "execution_count": 19
        }
      ]
    },
    {
      "cell_type": "code",
      "metadata": {
        "colab": {
          "base_uri": "https://localhost:8080/",
          "height": 803
        },
        "id": "FOQGRTrdtqQI",
        "outputId": "2bed430c-5205-4a3e-ca74-a54ab0d0e995"
      },
      "source": [
        "#Correlation Graphic on training set\n",
        "correlation = train.corr()\n",
        "plt.figure(figsize=(14,14))\n",
        "sns.heatmap(correlation, vmax=1,  cmap='coolwarm', square=True,annot=True)\n",
        "plt.title('Correlation')\n",
        "plt.show()"
      ],
      "execution_count": 20,
      "outputs": [
        {
          "output_type": "display_data",
          "data": {
            "image/png": "[encoded data removed]",
            "text/plain": [
              "<Figure size 1008x1008 with 2 Axes>"
            ]
          },
          "metadata": {
            "needs_background": "light"
          }
        }
      ]
    },
    {
      "cell_type": "markdown",
      "metadata": {
        "id": "f3ODNmwzwkS2"
      },
      "source": [
        "**Analisi della feature 'salary'**"
      ]
    },
    {
      "cell_type": "markdown",
      "metadata": {
        "id": "U4RzkowZR1qs"
      },
      "source": [
        "L'alta correlazione tra le feature \"salary\" e \"status\" ci suggerisce che i valori nulli del salario sono da attribuire alle sole persone disoccupate, verifichiamo:"
      ]
    },
    {
      "cell_type": "code",
      "metadata": {
        "colab": {
          "base_uri": "https://localhost:8080/",
          "height": 279
        },
        "id": "ZUJBKyLXSaCb",
        "outputId": "581eebbe-95d1-4ae4-9178-da48f4fe6f3f"
      },
      "source": [
        "#Data distribution based on 'status' label\n",
        "sns.countplot(x = 'status', data = train)\n",
        "plt.show();"
      ],
      "execution_count": 21,
      "outputs": [
        {
          "output_type": "display_data",
          "data": {
            "image/png": "[encoded data removed]",
            "text/plain": [
              "<Figure size 432x288 with 1 Axes>"
            ]
          },
          "metadata": {
            "needs_background": "light"
          }
        }
      ]
    },
    {
      "cell_type": "code",
      "metadata": {
        "colab": {
          "base_uri": "https://localhost:8080/",
          "height": 279
        },
        "id": "3O6ZGEhDT0Es",
        "outputId": "12dbb8c3-4ce3-45c2-9584-5428990518c4"
      },
      "source": [
        "#Data distribution based on 'salary' label\n",
        "sns.countplot(x = train[\"salary\"].map(lambda x : 1 if x!=0 else 0), data = train)\n",
        "plt.show();"
      ],
      "execution_count": 22,
      "outputs": [
        {
          "output_type": "display_data",
          "data": {
            "image/png": "[encoded data removed]",
            "text/plain": [
              "<Figure size 432x288 with 1 Axes>"
            ]
          },
          "metadata": {
            "needs_background": "light"
          }
        }
      ]
    },
    {
      "cell_type": "markdown",
      "metadata": {
        "id": "WYifk9FudHfA"
      },
      "source": [
        "Accorpo i valori di 'salary' diversi da zero e verifico la distribuzione rispetto alla feature 'status'."
      ]
    },
    {
      "cell_type": "code",
      "metadata": {
        "colab": {
          "base_uri": "https://localhost:8080/",
          "height": 279
        },
        "id": "OZFW9zi5bkJm",
        "outputId": "f0dfcb66-7566-491e-d540-0b4943137e40"
      },
      "source": [
        "sns.countplot(x = train[\"salary\"].map(lambda x : 1 if x!=0 else 0), hue=\"status\", data = train)\n",
        "plt.show()"
      ],
      "execution_count": 23,
      "outputs": [
        {
          "output_type": "display_data",
          "data": {
            "image/png": "[encoded data removed]",
            "text/plain": [
              "<Figure size 432x288 with 1 Axes>"
            ]
          },
          "metadata": {
            "needs_background": "light"
          }
        }
      ]
    },
    {
      "cell_type": "markdown",
      "metadata": {
        "id": "J8wiaJl7c-Ld"
      },
      "source": [
        "Come intuito i valori nulli di salario sono da attribuire interamente agli studenti che non hanno ricevuto una offerta lavorativa pertanto possiamo procedere a rimuovere la feature 'salary' poichè il suo potere discriminante è nullo ai fini della previsione."
      ]
    },
    {
      "cell_type": "code",
      "metadata": {
        "id": "xrYdwoslcoNJ"
      },
      "source": [
        "#Dropping features in training set\n",
        "train = train.drop('salary', axis=1)\n",
        "\n",
        "#Dropping features in test set\n",
        "test = test.drop('salary', axis=1)"
      ],
      "execution_count": 24,
      "outputs": []
    },
    {
      "cell_type": "markdown",
      "metadata": {
        "id": "UgQkpLJ_iKiS"
      },
      "source": [
        "**Analisi dei voti ottenuti durante il percorso di istruzione**"
      ]
    },
    {
      "cell_type": "markdown",
      "metadata": {
        "id": "yM6DlR3hhCEy"
      },
      "source": [
        "Dal grafico della correlazione noto che per tutte le feature relative ai voti di uscita dai diversi gradi di istruzione ci sono valori significativi di correlazione. Vediamo graficamente la corrispondenza con la feature 'status'."
      ]
    },
    {
      "cell_type": "code",
      "metadata": {
        "colab": {
          "base_uri": "https://localhost:8080/",
          "height": 441
        },
        "id": "BRWqxeQZhLSv",
        "outputId": "5526396c-7432-40c1-c665-ba1f448dc10a"
      },
      "source": [
        "#Visualizzazione distribuzione voto delle medie\n",
        "sns.displot(data=train, x=\"ssc_p\", hue=\"status\",  height=6, aspect=1.5, kde = True)\n",
        "plt.show()"
      ],
      "execution_count": 25,
      "outputs": [
        {
          "output_type": "display_data",
          "data": {
            "image/png": "[encoded data removed]",
            "text/plain": [
              "<Figure size 690.375x432 with 1 Axes>"
            ]
          },
          "metadata": {
            "needs_background": "light"
          }
        }
      ]
    },
    {
      "cell_type": "code",
      "metadata": {
        "colab": {
          "base_uri": "https://localhost:8080/",
          "height": 441
        },
        "id": "0y52pt7xhZeQ",
        "outputId": "5e099df9-d197-41a1-cf97-420c1ed39504"
      },
      "source": [
        "#Visualizzazione distribuzione punteggio del diploma\n",
        "sns.displot(data=train, x=\"hsc_p\", hue=\"status\",  height=6, aspect=1.5, kde = True)\n",
        "plt.show()"
      ],
      "execution_count": 26,
      "outputs": [
        {
          "output_type": "display_data",
          "data": {
            "image/png": "[encoded data removed]",
            "text/plain": [
              "<Figure size 690.375x432 with 1 Axes>"
            ]
          },
          "metadata": {
            "needs_background": "light"
          }
        }
      ]
    },
    {
      "cell_type": "code",
      "metadata": {
        "colab": {
          "base_uri": "https://localhost:8080/",
          "height": 441
        },
        "id": "W0fGpNchhiCA",
        "outputId": "a2487140-e792-4048-fad0-b469749d1b6a"
      },
      "source": [
        "#Visualizzazione distribuzione voto di laurea\n",
        "sns.displot(data=train, x=\"degree_p\", hue=\"status\",  height=6, aspect=1.5, kde = True)\n",
        "plt.show()"
      ],
      "execution_count": 27,
      "outputs": [
        {
          "output_type": "display_data",
          "data": {
            "image/png": "[encoded data removed]",
            "text/plain": [
              "<Figure size 690.375x432 with 1 Axes>"
            ]
          },
          "metadata": {
            "needs_background": "light"
          }
        }
      ]
    },
    {
      "cell_type": "markdown",
      "metadata": {
        "id": "IjowtCGnhoHu"
      },
      "source": [
        "Dai grafici si evince che al crescere dei punteggi di uscita dai vari gradi di istruzione corrisponde una maggiore possibilità di ottenere un impiego."
      ]
    },
    {
      "cell_type": "markdown",
      "metadata": {
        "id": "xOMFPBodiZac"
      },
      "source": [
        "**Analisi delle feature 'ssc_b' e 'hsc_b'**"
      ]
    },
    {
      "cell_type": "markdown",
      "metadata": {
        "id": "T1WbvoDiijQg"
      },
      "source": [
        "Per le feature 'ssc_b' e 'hsc_b' abbiamo dei valori di correlazione poco significativi, cerchiamo una corrispondenza grafico con la feature 'status'."
      ]
    },
    {
      "cell_type": "code",
      "metadata": {
        "colab": {
          "base_uri": "https://localhost:8080/",
          "height": 441
        },
        "id": "Jo_hwnFqi73B",
        "outputId": "232836f0-ef1a-4e16-abf9-df47d20f322a"
      },
      "source": [
        "#Visualizzazione distribuzione ssc_b\n",
        "sns.displot(data=train, x=\"ssc_b\", hue=\"status\",  height=6, aspect=1.5, kde = True)\n",
        "plt.show()"
      ],
      "execution_count": 28,
      "outputs": [
        {
          "output_type": "display_data",
          "data": {
            "image/png": "[encoded data removed]",
            "text/plain": [
              "<Figure size 690.375x432 with 1 Axes>"
            ]
          },
          "metadata": {
            "needs_background": "light"
          }
        }
      ]
    },
    {
      "cell_type": "code",
      "metadata": {
        "colab": {
          "base_uri": "https://localhost:8080/",
          "height": 441
        },
        "id": "9x40oX9sjDBj",
        "outputId": "30112d99-b798-491c-cb31-fe599a81e80b"
      },
      "source": [
        "#Visualizzazione distribuzione hsc_b\n",
        "sns.displot(data=train, x=\"hsc_b\", hue=\"status\",  height=6, aspect=1.5, kde = True)\n",
        "plt.show()"
      ],
      "execution_count": 29,
      "outputs": [
        {
          "output_type": "display_data",
          "data": {
            "image/png": "[encoded data removed]",
            "text/plain": [
              "<Figure size 690.375x432 with 1 Axes>"
            ]
          },
          "metadata": {
            "needs_background": "light"
          }
        }
      ]
    },
    {
      "cell_type": "markdown",
      "metadata": {
        "id": "aqt19uY-jOYj"
      },
      "source": [
        "Le due feature non sembrano avere una particolare significatività sulla possibilità di impiego, le elimino."
      ]
    },
    {
      "cell_type": "code",
      "metadata": {
        "id": "pMUziJ6zjoPa"
      },
      "source": [
        "#Dropping features in training set\n",
        "train = train.drop('ssc_b', axis=1)\n",
        "train = train.drop('hsc_b', axis=1)\n",
        "\n",
        "#Dropping features in test set\n",
        "test = test.drop('hsc_b', axis=1)\n",
        "test = test.drop('ssc_b', axis=1)"
      ],
      "execution_count": 30,
      "outputs": []
    },
    {
      "cell_type": "markdown",
      "metadata": {
        "id": "Fn3kGCUItlGk"
      },
      "source": [
        "**Analisi della feature 'etest_p'**"
      ]
    },
    {
      "cell_type": "code",
      "metadata": {
        "colab": {
          "base_uri": "https://localhost:8080/",
          "height": 441
        },
        "id": "g4k993CqtvZ3",
        "outputId": "e06f13dc-3b2e-49e6-87c4-1864231dd8fa"
      },
      "source": [
        "#Visualizzazione distribuzione etest_p\n",
        "sns.displot(data=train, x='etest_p', hue=\"status\",  height=6, aspect=1.5, kde = True)\n",
        "plt.show()"
      ],
      "execution_count": 31,
      "outputs": [
        {
          "output_type": "display_data",
          "data": {
            "image/png": "[encoded data removed]",
            "text/plain": [
              "<Figure size 690.375x432 with 1 Axes>"
            ]
          },
          "metadata": {
            "needs_background": "light"
          }
        }
      ]
    },
    {
      "cell_type": "markdown",
      "metadata": {
        "id": "OzAnrA6suYAp"
      },
      "source": [
        "Al crescere del voto di specializzazione le possibilità di impiego degli studenti aumentano sensibilmente."
      ]
    },
    {
      "cell_type": "markdown",
      "metadata": {
        "id": "5gIURJ0E3VjG"
      },
      "source": [
        "**Previsione:**"
      ]
    },
    {
      "cell_type": "markdown",
      "metadata": {
        "id": "Neiucz6u3YKt"
      },
      "source": [
        "La dimensione ridotta del dataset rischia di compromettere la qualità del modello."
      ]
    },
    {
      "cell_type": "markdown",
      "metadata": {
        "id": "CyAj9Lde7XOp"
      },
      "source": [
        "Divido la label 'Exited' dal training set e test set per applicare l'algoritmo di ML."
      ]
    },
    {
      "cell_type": "code",
      "metadata": {
        "id": "1MUI-LmIlLg0"
      },
      "source": [
        "#Divide\n",
        "trainY=train['status']\n",
        "testY=test['status']\n",
        "trainX=train.drop('status', axis=1)\n",
        "testX=test.drop('status', axis=1)"
      ],
      "execution_count": 32,
      "outputs": []
    },
    {
      "cell_type": "markdown",
      "metadata": {
        "id": "hpo-U70k7aSz"
      },
      "source": [
        "Applico il modello RandomForestClassifier che calcola una moltitudine di Decision Trees e tramite la media dei risultati ottenuti fa la previsione."
      ]
    },
    {
      "cell_type": "code",
      "metadata": {
        "colab": {
          "base_uri": "https://localhost:8080/"
        },
        "id": "0SF1_N1ZoDs2",
        "outputId": "ba6a21b3-6902-4e07-e0b5-d5b042c2eec5"
      },
      "source": [
        "#Model training and score\n",
        "forest = RandomForestClassifier()\n",
        "forest.fit(trainX, trainY)\n",
        "prediction = forest.predict(testX)\n",
        "print('Accuracy:',(accuracy_score(testY, prediction)* 100), \"%\")"
      ],
      "execution_count": 33,
      "outputs": [
        {
          "output_type": "stream",
          "name": "stdout",
          "text": [
            "Accuracy: 91.42857142857143 %\n"
          ]
        }
      ]
    },
    {
      "cell_type": "markdown",
      "metadata": {
        "id": "idNcizdSvo05"
      },
      "source": [
        "**Analisi della previsione**"
      ]
    },
    {
      "cell_type": "code",
      "metadata": {
        "colab": {
          "base_uri": "https://localhost:8080/",
          "height": 317
        },
        "id": "Hs6BmSGSvn04",
        "outputId": "8a5bdcb9-f005-456a-dc8b-f9534d37665d"
      },
      "source": [
        "#Confusion Matrix\n",
        "predY = forest.predict(testX)\n",
        "\n",
        "cnf_matrix = metrics.confusion_matrix(testY, predY)\n",
        "p = sns.heatmap(pd.DataFrame(cnf_matrix), annot=True, cmap=\"coolwarm\" ,fmt='g')\n",
        "plt.title('Confusion matrix', y=1.1)\n",
        "plt.ylabel('Actual label')\n",
        "plt.xlabel('Predicted label')\n",
        "\n",
        "plt.show()"
      ],
      "execution_count": 34,
      "outputs": [
        {
          "output_type": "display_data",
          "data": {
            "image/png": "[encoded data removed]",
            "text/plain": [
              "<Figure size 432x288 with 2 Axes>"
            ]
          },
          "metadata": {
            "needs_background": "light"
          }
        }
      ]
    },
    {
      "cell_type": "markdown",
      "metadata": {
        "id": "PyihqS-Jv509"
      },
      "source": [
        "Dalla matrice di confusione notiamo che la maggior parte degli errori sono stati compiuti sugli studenti che non hanno ricevuto alcuna offerta lavorativa."
      ]
    }
  ]
}